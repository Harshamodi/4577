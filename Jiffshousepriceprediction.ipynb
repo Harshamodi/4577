{
  "nbformat": 4,
  "nbformat_minor": 0,
  "metadata": {
    "colab": {
      "provenance": []
    },
    "kernelspec": {
      "name": "python3",
      "display_name": "Python 3"
    },
    "language_info": {
      "name": "python"
    }
  },
  "cells": [
    {
      "cell_type": "markdown",
      "source": [
        "FEATURES\n",
        "1.\tland_size_sqm - This the total size of the land in square meters.\n",
        "2.\thouse_size_sqm - This is the area in which house is located within the land. This is measured in square meters.\n",
        "3.\tno_of_rooms - This indicates the number of rooms available in the house.\n",
        "4.\tno_of_bathrooms - This shows the number of total bathrooms made in the house.\n",
        "5.\tlarge_living_room - This indicates whether the house includes a larger living room or not. The assumption is that all the houses contain a living room. This feature attempts to classify whether it's large or small where '1' means large and '0' means small. However in the categorical dataset, 1 and 0 are represented with 'yes' and 'No' respectively.\n",
        "6.\tparking_space - This indicates whether there is a parking space or not. '1' represents the parking available while '0' represents no parking space available. However in the categorical dataset, 1 and 0 are represented with 'yes' and 'No' respectively.\n",
        "7.\tfront_garden - This shows whether there is a garden available in front of the house. '1' means the garden available and '0' means no garden available. However in the categorical dataset, 1 and 0 are represented with 'yes' and 'No' respectively.\n",
        "8.\tswimming_pool - This shows the availability of the swimming pool at the house. 1 represents the availability of the swimming pool while 0 represents the non availability of the same. However in the categorical dataset, 1 and 0 are represented with 'yes' and 'No' respectively.\n",
        "9.\tdistance_to_school_km - This shows the distance from the house to the nearest school in Kilometers.\n",
        "10.\twall_fence - This shows whether there is a wall fence or not. '1' mean there is wall fence and '0' means no wall fence. However in the categorical dataset, 1 and 0 are represented with 'yes' and 'No' respectively.\n",
        "11.\t**house_age_or_renovated **- This is either the age of the house in years or the period from the date of renovation.\n",
        "12.\twater_front - this indicates whether the house is located in front of the water or not. 1 means waterfront and 0 means its not located near the water. However in the categorical dataset, 1 and 0 are represented with 'yes' and 'No' respectively.\n",
        "13.\tdistance_to_supermarket_km - what is the distance to the nearest supermarket in kilometers.\n",
        "\n",
        "LABEL\n",
        "property_value - This is the price of the property\n",
        "\n"
      ],
      "metadata": {
        "id": "45zrc2qpMZgk"
      }
    },
    {
      "cell_type": "code",
      "execution_count": null,
      "metadata": {
        "id": "aZM9Ce5nmoH9"
      },
      "outputs": [],
      "source": [
        "import pandas as pd\n",
        "import numpy as np\n",
        "import matplotlib.pyplot as plt\n",
        "import seaborn as sns"
      ]
    },
    {
      "cell_type": "code",
      "source": [
        "from google.colab import drive\n",
        "\n",
        "drive.mount(\"/content/drive\")"
      ],
      "metadata": {
        "colab": {
          "base_uri": "https://localhost:8080/"
        },
        "id": "kPynzhPGnFyM",
        "outputId": "4cc6e675-3643-4ef8-aeef-4b40dbd600f3"
      },
      "execution_count": null,
      "outputs": [
        {
          "output_type": "stream",
          "name": "stdout",
          "text": [
            "Mounted at /content/drive\n"
          ]
        }
      ]
    },
    {
      "cell_type": "code",
      "source": [
        "df = pd.read_excel('/content/drive/MyDrive/regression 3/regression/Jiffs house price prediction/jiffs_house_price_my_dataset_v1.xlsx')"
      ],
      "metadata": {
        "id": "NwD-OI2ipx5m"
      },
      "execution_count": null,
      "outputs": []
    },
    {
      "cell_type": "code",
      "source": [
        "df.shape"
      ],
      "metadata": {
        "colab": {
          "base_uri": "https://localhost:8080/"
        },
        "id": "wZb2ItFcTy8p",
        "outputId": "dda3b806-b15c-4649-c9bf-5251cb92560c"
      },
      "execution_count": null,
      "outputs": [
        {
          "output_type": "execute_result",
          "data": {
            "text/plain": [
              "(4954, 14)"
            ]
          },
          "metadata": {},
          "execution_count": 4
        }
      ]
    },
    {
      "cell_type": "code",
      "source": [
        "df.head()"
      ],
      "metadata": {
        "colab": {
          "base_uri": "https://localhost:8080/",
          "height": 270
        },
        "id": "OdvgCs6qqfeU",
        "outputId": "cfccf49c-c84c-43b7-f970-f841416c5188"
      },
      "execution_count": null,
      "outputs": [
        {
          "output_type": "execute_result",
          "data": {
            "text/plain": [
              "   land_size_sqm  house_size_sqm  no_of_rooms  no_of_bathrooms  \\\n",
              "0            201           177.0            3                1   \n",
              "1            196           182.0            4                3   \n",
              "2            198           182.0            4                4   \n",
              "3            178           166.0            2                3   \n",
              "4            183           165.0            3                1   \n",
              "\n",
              "   large_living_room  parking_space  front_garden  swimming_pool  \\\n",
              "0                0.0              1             1              0   \n",
              "1                1.0              1             0              1   \n",
              "2                1.0              1             0              1   \n",
              "3                0.0              1             0              0   \n",
              "4                1.0              1             0              0   \n",
              "\n",
              "   distance_to_school_km  wall_fence  house_age_or_renovated  water_front  \\\n",
              "0                    3.3           1                      10            0   \n",
              "1                    1.2           1                      11            0   \n",
              "2                    5.9           0                      20            0   \n",
              "3                    5.9           0                       5            0   \n",
              "4                    3.8           1                       8            0   \n",
              "\n",
              "   distance_to_supermarket_km  property_value  \n",
              "0                         6.8          167611  \n",
              "1                         4.1          186945  \n",
              "2                         2.1          154628  \n",
              "3                         0.7          133099  \n",
              "4                         0.7          158481  "
            ],
            "text/html": [
              "\n",
              "  <div id=\"df-27dbc920-a5ae-4394-97eb-3e035435ca78\">\n",
              "    <div class=\"colab-df-container\">\n",
              "      <div>\n",
              "<style scoped>\n",
              "    .dataframe tbody tr th:only-of-type {\n",
              "        vertical-align: middle;\n",
              "    }\n",
              "\n",
              "    .dataframe tbody tr th {\n",
              "        vertical-align: top;\n",
              "    }\n",
              "\n",
              "    .dataframe thead th {\n",
              "        text-align: right;\n",
              "    }\n",
              "</style>\n",
              "<table border=\"1\" class=\"dataframe\">\n",
              "  <thead>\n",
              "    <tr style=\"text-align: right;\">\n",
              "      <th></th>\n",
              "      <th>land_size_sqm</th>\n",
              "      <th>house_size_sqm</th>\n",
              "      <th>no_of_rooms</th>\n",
              "      <th>no_of_bathrooms</th>\n",
              "      <th>large_living_room</th>\n",
              "      <th>parking_space</th>\n",
              "      <th>front_garden</th>\n",
              "      <th>swimming_pool</th>\n",
              "      <th>distance_to_school_km</th>\n",
              "      <th>wall_fence</th>\n",
              "      <th>house_age_or_renovated</th>\n",
              "      <th>water_front</th>\n",
              "      <th>distance_to_supermarket_km</th>\n",
              "      <th>property_value</th>\n",
              "    </tr>\n",
              "  </thead>\n",
              "  <tbody>\n",
              "    <tr>\n",
              "      <th>0</th>\n",
              "      <td>201</td>\n",
              "      <td>177.0</td>\n",
              "      <td>3</td>\n",
              "      <td>1</td>\n",
              "      <td>0.0</td>\n",
              "      <td>1</td>\n",
              "      <td>1</td>\n",
              "      <td>0</td>\n",
              "      <td>3.3</td>\n",
              "      <td>1</td>\n",
              "      <td>10</td>\n",
              "      <td>0</td>\n",
              "      <td>6.8</td>\n",
              "      <td>167611</td>\n",
              "    </tr>\n",
              "    <tr>\n",
              "      <th>1</th>\n",
              "      <td>196</td>\n",
              "      <td>182.0</td>\n",
              "      <td>4</td>\n",
              "      <td>3</td>\n",
              "      <td>1.0</td>\n",
              "      <td>1</td>\n",
              "      <td>0</td>\n",
              "      <td>1</td>\n",
              "      <td>1.2</td>\n",
              "      <td>1</td>\n",
              "      <td>11</td>\n",
              "      <td>0</td>\n",
              "      <td>4.1</td>\n",
              "      <td>186945</td>\n",
              "    </tr>\n",
              "    <tr>\n",
              "      <th>2</th>\n",
              "      <td>198</td>\n",
              "      <td>182.0</td>\n",
              "      <td>4</td>\n",
              "      <td>4</td>\n",
              "      <td>1.0</td>\n",
              "      <td>1</td>\n",
              "      <td>0</td>\n",
              "      <td>1</td>\n",
              "      <td>5.9</td>\n",
              "      <td>0</td>\n",
              "      <td>20</td>\n",
              "      <td>0</td>\n",
              "      <td>2.1</td>\n",
              "      <td>154628</td>\n",
              "    </tr>\n",
              "    <tr>\n",
              "      <th>3</th>\n",
              "      <td>178</td>\n",
              "      <td>166.0</td>\n",
              "      <td>2</td>\n",
              "      <td>3</td>\n",
              "      <td>0.0</td>\n",
              "      <td>1</td>\n",
              "      <td>0</td>\n",
              "      <td>0</td>\n",
              "      <td>5.9</td>\n",
              "      <td>0</td>\n",
              "      <td>5</td>\n",
              "      <td>0</td>\n",
              "      <td>0.7</td>\n",
              "      <td>133099</td>\n",
              "    </tr>\n",
              "    <tr>\n",
              "      <th>4</th>\n",
              "      <td>183</td>\n",
              "      <td>165.0</td>\n",
              "      <td>3</td>\n",
              "      <td>1</td>\n",
              "      <td>1.0</td>\n",
              "      <td>1</td>\n",
              "      <td>0</td>\n",
              "      <td>0</td>\n",
              "      <td>3.8</td>\n",
              "      <td>1</td>\n",
              "      <td>8</td>\n",
              "      <td>0</td>\n",
              "      <td>0.7</td>\n",
              "      <td>158481</td>\n",
              "    </tr>\n",
              "  </tbody>\n",
              "</table>\n",
              "</div>\n",
              "      <button class=\"colab-df-convert\" onclick=\"convertToInteractive('df-27dbc920-a5ae-4394-97eb-3e035435ca78')\"\n",
              "              title=\"Convert this dataframe to an interactive table.\"\n",
              "              style=\"display:none;\">\n",
              "        \n",
              "  <svg xmlns=\"http://www.w3.org/2000/svg\" height=\"24px\"viewBox=\"0 0 24 24\"\n",
              "       width=\"24px\">\n",
              "    <path d=\"M0 0h24v24H0V0z\" fill=\"none\"/>\n",
              "    <path d=\"M18.56 5.44l.94 2.06.94-2.06 2.06-.94-2.06-.94-.94-2.06-.94 2.06-2.06.94zm-11 1L8.5 8.5l.94-2.06 2.06-.94-2.06-.94L8.5 2.5l-.94 2.06-2.06.94zm10 10l.94 2.06.94-2.06 2.06-.94-2.06-.94-.94-2.06-.94 2.06-2.06.94z\"/><path d=\"M17.41 7.96l-1.37-1.37c-.4-.4-.92-.59-1.43-.59-.52 0-1.04.2-1.43.59L10.3 9.45l-7.72 7.72c-.78.78-.78 2.05 0 2.83L4 21.41c.39.39.9.59 1.41.59.51 0 1.02-.2 1.41-.59l7.78-7.78 2.81-2.81c.8-.78.8-2.07 0-2.86zM5.41 20L4 18.59l7.72-7.72 1.47 1.35L5.41 20z\"/>\n",
              "  </svg>\n",
              "      </button>\n",
              "      \n",
              "  <style>\n",
              "    .colab-df-container {\n",
              "      display:flex;\n",
              "      flex-wrap:wrap;\n",
              "      gap: 12px;\n",
              "    }\n",
              "\n",
              "    .colab-df-convert {\n",
              "      background-color: #E8F0FE;\n",
              "      border: none;\n",
              "      border-radius: 50%;\n",
              "      cursor: pointer;\n",
              "      display: none;\n",
              "      fill: #1967D2;\n",
              "      height: 32px;\n",
              "      padding: 0 0 0 0;\n",
              "      width: 32px;\n",
              "    }\n",
              "\n",
              "    .colab-df-convert:hover {\n",
              "      background-color: #E2EBFA;\n",
              "      box-shadow: 0px 1px 2px rgba(60, 64, 67, 0.3), 0px 1px 3px 1px rgba(60, 64, 67, 0.15);\n",
              "      fill: #174EA6;\n",
              "    }\n",
              "\n",
              "    [theme=dark] .colab-df-convert {\n",
              "      background-color: #3B4455;\n",
              "      fill: #D2E3FC;\n",
              "    }\n",
              "\n",
              "    [theme=dark] .colab-df-convert:hover {\n",
              "      background-color: #434B5C;\n",
              "      box-shadow: 0px 1px 3px 1px rgba(0, 0, 0, 0.15);\n",
              "      filter: drop-shadow(0px 1px 2px rgba(0, 0, 0, 0.3));\n",
              "      fill: #FFFFFF;\n",
              "    }\n",
              "  </style>\n",
              "\n",
              "      <script>\n",
              "        const buttonEl =\n",
              "          document.querySelector('#df-27dbc920-a5ae-4394-97eb-3e035435ca78 button.colab-df-convert');\n",
              "        buttonEl.style.display =\n",
              "          google.colab.kernel.accessAllowed ? 'block' : 'none';\n",
              "\n",
              "        async function convertToInteractive(key) {\n",
              "          const element = document.querySelector('#df-27dbc920-a5ae-4394-97eb-3e035435ca78');\n",
              "          const dataTable =\n",
              "            await google.colab.kernel.invokeFunction('convertToInteractive',\n",
              "                                                     [key], {});\n",
              "          if (!dataTable) return;\n",
              "\n",
              "          const docLinkHtml = 'Like what you see? Visit the ' +\n",
              "            '<a target=\"_blank\" href=https://colab.research.google.com/notebooks/data_table.ipynb>data table notebook</a>'\n",
              "            + ' to learn more about interactive tables.';\n",
              "          element.innerHTML = '';\n",
              "          dataTable['output_type'] = 'display_data';\n",
              "          await google.colab.output.renderOutput(dataTable, element);\n",
              "          const docLink = document.createElement('div');\n",
              "          docLink.innerHTML = docLinkHtml;\n",
              "          element.appendChild(docLink);\n",
              "        }\n",
              "      </script>\n",
              "    </div>\n",
              "  </div>\n",
              "  "
            ]
          },
          "metadata": {},
          "execution_count": 5
        }
      ]
    },
    {
      "cell_type": "code",
      "source": [
        "df.tail()"
      ],
      "metadata": {
        "colab": {
          "base_uri": "https://localhost:8080/",
          "height": 270
        },
        "id": "2Z02lezIqnq8",
        "outputId": "f007efa5-3cc7-47ea-fc25-a877cab5571b"
      },
      "execution_count": null,
      "outputs": [
        {
          "output_type": "execute_result",
          "data": {
            "text/plain": [
              "      land_size_sqm  house_size_sqm  no_of_rooms  no_of_bathrooms  \\\n",
              "4949            297           261.0            4                4   \n",
              "4950            302           282.0            4                2   \n",
              "4951            153           147.0            3                4   \n",
              "4952            180           158.0            2                1   \n",
              "4953            695           619.0            8                6   \n",
              "\n",
              "      large_living_room  parking_space  front_garden  swimming_pool  \\\n",
              "4949                1.0              1             1              1   \n",
              "4950                1.0              1             1              1   \n",
              "4951                1.0              1             0              0   \n",
              "4952                0.0              1             0              1   \n",
              "4953                1.0              1             1              1   \n",
              "\n",
              "      distance_to_school_km  wall_fence  house_age_or_renovated  water_front  \\\n",
              "4949                    2.9           1                      20            0   \n",
              "4950                    3.8           1                      12            1   \n",
              "4951                    3.3           1                       7            0   \n",
              "4952                    2.2           0                       1            0   \n",
              "4953                    0.4           1                       5            0   \n",
              "\n",
              "      distance_to_supermarket_km  property_value  \n",
              "4949                         4.1          254547  \n",
              "4950                         4.8          299788  \n",
              "4951                         4.7          138088  \n",
              "4952                         3.4          151907  \n",
              "4953                         0.4          566249  "
            ],
            "text/html": [
              "\n",
              "  <div id=\"df-cfea9d41-c84a-4f0f-a636-3f12cf54c512\">\n",
              "    <div class=\"colab-df-container\">\n",
              "      <div>\n",
              "<style scoped>\n",
              "    .dataframe tbody tr th:only-of-type {\n",
              "        vertical-align: middle;\n",
              "    }\n",
              "\n",
              "    .dataframe tbody tr th {\n",
              "        vertical-align: top;\n",
              "    }\n",
              "\n",
              "    .dataframe thead th {\n",
              "        text-align: right;\n",
              "    }\n",
              "</style>\n",
              "<table border=\"1\" class=\"dataframe\">\n",
              "  <thead>\n",
              "    <tr style=\"text-align: right;\">\n",
              "      <th></th>\n",
              "      <th>land_size_sqm</th>\n",
              "      <th>house_size_sqm</th>\n",
              "      <th>no_of_rooms</th>\n",
              "      <th>no_of_bathrooms</th>\n",
              "      <th>large_living_room</th>\n",
              "      <th>parking_space</th>\n",
              "      <th>front_garden</th>\n",
              "      <th>swimming_pool</th>\n",
              "      <th>distance_to_school_km</th>\n",
              "      <th>wall_fence</th>\n",
              "      <th>house_age_or_renovated</th>\n",
              "      <th>water_front</th>\n",
              "      <th>distance_to_supermarket_km</th>\n",
              "      <th>property_value</th>\n",
              "    </tr>\n",
              "  </thead>\n",
              "  <tbody>\n",
              "    <tr>\n",
              "      <th>4949</th>\n",
              "      <td>297</td>\n",
              "      <td>261.0</td>\n",
              "      <td>4</td>\n",
              "      <td>4</td>\n",
              "      <td>1.0</td>\n",
              "      <td>1</td>\n",
              "      <td>1</td>\n",
              "      <td>1</td>\n",
              "      <td>2.9</td>\n",
              "      <td>1</td>\n",
              "      <td>20</td>\n",
              "      <td>0</td>\n",
              "      <td>4.1</td>\n",
              "      <td>254547</td>\n",
              "    </tr>\n",
              "    <tr>\n",
              "      <th>4950</th>\n",
              "      <td>302</td>\n",
              "      <td>282.0</td>\n",
              "      <td>4</td>\n",
              "      <td>2</td>\n",
              "      <td>1.0</td>\n",
              "      <td>1</td>\n",
              "      <td>1</td>\n",
              "      <td>1</td>\n",
              "      <td>3.8</td>\n",
              "      <td>1</td>\n",
              "      <td>12</td>\n",
              "      <td>1</td>\n",
              "      <td>4.8</td>\n",
              "      <td>299788</td>\n",
              "    </tr>\n",
              "    <tr>\n",
              "      <th>4951</th>\n",
              "      <td>153</td>\n",
              "      <td>147.0</td>\n",
              "      <td>3</td>\n",
              "      <td>4</td>\n",
              "      <td>1.0</td>\n",
              "      <td>1</td>\n",
              "      <td>0</td>\n",
              "      <td>0</td>\n",
              "      <td>3.3</td>\n",
              "      <td>1</td>\n",
              "      <td>7</td>\n",
              "      <td>0</td>\n",
              "      <td>4.7</td>\n",
              "      <td>138088</td>\n",
              "    </tr>\n",
              "    <tr>\n",
              "      <th>4952</th>\n",
              "      <td>180</td>\n",
              "      <td>158.0</td>\n",
              "      <td>2</td>\n",
              "      <td>1</td>\n",
              "      <td>0.0</td>\n",
              "      <td>1</td>\n",
              "      <td>0</td>\n",
              "      <td>1</td>\n",
              "      <td>2.2</td>\n",
              "      <td>0</td>\n",
              "      <td>1</td>\n",
              "      <td>0</td>\n",
              "      <td>3.4</td>\n",
              "      <td>151907</td>\n",
              "    </tr>\n",
              "    <tr>\n",
              "      <th>4953</th>\n",
              "      <td>695</td>\n",
              "      <td>619.0</td>\n",
              "      <td>8</td>\n",
              "      <td>6</td>\n",
              "      <td>1.0</td>\n",
              "      <td>1</td>\n",
              "      <td>1</td>\n",
              "      <td>1</td>\n",
              "      <td>0.4</td>\n",
              "      <td>1</td>\n",
              "      <td>5</td>\n",
              "      <td>0</td>\n",
              "      <td>0.4</td>\n",
              "      <td>566249</td>\n",
              "    </tr>\n",
              "  </tbody>\n",
              "</table>\n",
              "</div>\n",
              "      <button class=\"colab-df-convert\" onclick=\"convertToInteractive('df-cfea9d41-c84a-4f0f-a636-3f12cf54c512')\"\n",
              "              title=\"Convert this dataframe to an interactive table.\"\n",
              "              style=\"display:none;\">\n",
              "        \n",
              "  <svg xmlns=\"http://www.w3.org/2000/svg\" height=\"24px\"viewBox=\"0 0 24 24\"\n",
              "       width=\"24px\">\n",
              "    <path d=\"M0 0h24v24H0V0z\" fill=\"none\"/>\n",
              "    <path d=\"M18.56 5.44l.94 2.06.94-2.06 2.06-.94-2.06-.94-.94-2.06-.94 2.06-2.06.94zm-11 1L8.5 8.5l.94-2.06 2.06-.94-2.06-.94L8.5 2.5l-.94 2.06-2.06.94zm10 10l.94 2.06.94-2.06 2.06-.94-2.06-.94-.94-2.06-.94 2.06-2.06.94z\"/><path d=\"M17.41 7.96l-1.37-1.37c-.4-.4-.92-.59-1.43-.59-.52 0-1.04.2-1.43.59L10.3 9.45l-7.72 7.72c-.78.78-.78 2.05 0 2.83L4 21.41c.39.39.9.59 1.41.59.51 0 1.02-.2 1.41-.59l7.78-7.78 2.81-2.81c.8-.78.8-2.07 0-2.86zM5.41 20L4 18.59l7.72-7.72 1.47 1.35L5.41 20z\"/>\n",
              "  </svg>\n",
              "      </button>\n",
              "      \n",
              "  <style>\n",
              "    .colab-df-container {\n",
              "      display:flex;\n",
              "      flex-wrap:wrap;\n",
              "      gap: 12px;\n",
              "    }\n",
              "\n",
              "    .colab-df-convert {\n",
              "      background-color: #E8F0FE;\n",
              "      border: none;\n",
              "      border-radius: 50%;\n",
              "      cursor: pointer;\n",
              "      display: none;\n",
              "      fill: #1967D2;\n",
              "      height: 32px;\n",
              "      padding: 0 0 0 0;\n",
              "      width: 32px;\n",
              "    }\n",
              "\n",
              "    .colab-df-convert:hover {\n",
              "      background-color: #E2EBFA;\n",
              "      box-shadow: 0px 1px 2px rgba(60, 64, 67, 0.3), 0px 1px 3px 1px rgba(60, 64, 67, 0.15);\n",
              "      fill: #174EA6;\n",
              "    }\n",
              "\n",
              "    [theme=dark] .colab-df-convert {\n",
              "      background-color: #3B4455;\n",
              "      fill: #D2E3FC;\n",
              "    }\n",
              "\n",
              "    [theme=dark] .colab-df-convert:hover {\n",
              "      background-color: #434B5C;\n",
              "      box-shadow: 0px 1px 3px 1px rgba(0, 0, 0, 0.15);\n",
              "      filter: drop-shadow(0px 1px 2px rgba(0, 0, 0, 0.3));\n",
              "      fill: #FFFFFF;\n",
              "    }\n",
              "  </style>\n",
              "\n",
              "      <script>\n",
              "        const buttonEl =\n",
              "          document.querySelector('#df-cfea9d41-c84a-4f0f-a636-3f12cf54c512 button.colab-df-convert');\n",
              "        buttonEl.style.display =\n",
              "          google.colab.kernel.accessAllowed ? 'block' : 'none';\n",
              "\n",
              "        async function convertToInteractive(key) {\n",
              "          const element = document.querySelector('#df-cfea9d41-c84a-4f0f-a636-3f12cf54c512');\n",
              "          const dataTable =\n",
              "            await google.colab.kernel.invokeFunction('convertToInteractive',\n",
              "                                                     [key], {});\n",
              "          if (!dataTable) return;\n",
              "\n",
              "          const docLinkHtml = 'Like what you see? Visit the ' +\n",
              "            '<a target=\"_blank\" href=https://colab.research.google.com/notebooks/data_table.ipynb>data table notebook</a>'\n",
              "            + ' to learn more about interactive tables.';\n",
              "          element.innerHTML = '';\n",
              "          dataTable['output_type'] = 'display_data';\n",
              "          await google.colab.output.renderOutput(dataTable, element);\n",
              "          const docLink = document.createElement('div');\n",
              "          docLink.innerHTML = docLinkHtml;\n",
              "          element.appendChild(docLink);\n",
              "        }\n",
              "      </script>\n",
              "    </div>\n",
              "  </div>\n",
              "  "
            ]
          },
          "metadata": {},
          "execution_count": 6
        }
      ]
    },
    {
      "cell_type": "code",
      "source": [
        "df.info()"
      ],
      "metadata": {
        "colab": {
          "base_uri": "https://localhost:8080/"
        },
        "id": "APwX0cAHJoQC",
        "outputId": "f02ba88e-c686-4316-bbbb-bbb906b9f8ca"
      },
      "execution_count": null,
      "outputs": [
        {
          "output_type": "stream",
          "name": "stdout",
          "text": [
            "<class 'pandas.core.frame.DataFrame'>\n",
            "RangeIndex: 4954 entries, 0 to 4953\n",
            "Data columns (total 14 columns):\n",
            " #   Column                      Non-Null Count  Dtype  \n",
            "---  ------                      --------------  -----  \n",
            " 0   land_size_sqm               4954 non-null   int64  \n",
            " 1   house_size_sqm              4953 non-null   float64\n",
            " 2   no_of_rooms                 4954 non-null   int64  \n",
            " 3   no_of_bathrooms             4954 non-null   int64  \n",
            " 4   large_living_room           4952 non-null   float64\n",
            " 5   parking_space               4954 non-null   int64  \n",
            " 6   front_garden                4954 non-null   int64  \n",
            " 7   swimming_pool               4954 non-null   int64  \n",
            " 8   distance_to_school_km       4942 non-null   float64\n",
            " 9   wall_fence                  4954 non-null   int64  \n",
            " 10  house_age_or_renovated      4954 non-null   int64  \n",
            " 11  water_front                 4954 non-null   int64  \n",
            " 12  distance_to_supermarket_km  4916 non-null   float64\n",
            " 13  property_value              4954 non-null   int64  \n",
            "dtypes: float64(4), int64(10)\n",
            "memory usage: 542.0 KB\n"
          ]
        }
      ]
    },
    {
      "cell_type": "code",
      "source": [
        "df.columns"
      ],
      "metadata": {
        "colab": {
          "base_uri": "https://localhost:8080/"
        },
        "id": "LnnJVPvTT7Gb",
        "outputId": "d6cb0b68-fd1a-4255-f95e-62f2c88704c5"
      },
      "execution_count": null,
      "outputs": [
        {
          "output_type": "execute_result",
          "data": {
            "text/plain": [
              "Index(['land_size_sqm', 'house_size_sqm', 'no_of_rooms', 'no_of_bathrooms',\n",
              "       'large_living_room', 'parking_space', 'front_garden', 'swimming_pool',\n",
              "       'distance_to_school_km', 'wall_fence', 'house_age_or_renovated',\n",
              "       'water_front', 'distance_to_supermarket_km', 'property_value'],\n",
              "      dtype='object')"
            ]
          },
          "metadata": {},
          "execution_count": 8
        }
      ]
    },
    {
      "cell_type": "code",
      "source": [
        "df.isnull().sum()"
      ],
      "metadata": {
        "colab": {
          "base_uri": "https://localhost:8080/"
        },
        "id": "trd4QfQLYZGu",
        "outputId": "21df35d5-7163-4c5d-be32-527474610592"
      },
      "execution_count": null,
      "outputs": [
        {
          "output_type": "execute_result",
          "data": {
            "text/plain": [
              "land_size_sqm                  0\n",
              "house_size_sqm                 1\n",
              "no_of_rooms                    0\n",
              "no_of_bathrooms                0\n",
              "large_living_room              2\n",
              "parking_space                  0\n",
              "front_garden                   0\n",
              "swimming_pool                  0\n",
              "distance_to_school_km         12\n",
              "wall_fence                     0\n",
              "house_age_or_renovated         0\n",
              "water_front                    0\n",
              "distance_to_supermarket_km    38\n",
              "property_value                 0\n",
              "dtype: int64"
            ]
          },
          "metadata": {},
          "execution_count": 9
        }
      ]
    },
    {
      "cell_type": "code",
      "source": [
        "df['house_size_sqm'] = df['house_size_sqm'].fillna(df['house_size_sqm'].median())"
      ],
      "metadata": {
        "id": "ou6FYaJlJDNw"
      },
      "execution_count": null,
      "outputs": []
    },
    {
      "cell_type": "code",
      "source": [
        "df['large_living_room'] = df['large_living_room'].fillna(df['large_living_room'].median())"
      ],
      "metadata": {
        "id": "b5QrS0u5J-8H"
      },
      "execution_count": null,
      "outputs": []
    },
    {
      "cell_type": "code",
      "source": [
        "df['distance_to_school_km'] = df['distance_to_school_km'].fillna(df['distance_to_school_km'].median())"
      ],
      "metadata": {
        "id": "_f5-G1K9J-vh"
      },
      "execution_count": null,
      "outputs": []
    },
    {
      "cell_type": "code",
      "source": [
        "df['distance_to_supermarket_km'] = df['distance_to_supermarket_km'].fillna(df['distance_to_supermarket_km'].median())"
      ],
      "metadata": {
        "id": "q-ChKi8uJ-kz"
      },
      "execution_count": null,
      "outputs": []
    },
    {
      "cell_type": "code",
      "source": [
        "df.isnull().sum()"
      ],
      "metadata": {
        "colab": {
          "base_uri": "https://localhost:8080/"
        },
        "id": "6Y7xslJ6J-XP",
        "outputId": "11e100d0-0cf0-4f33-b6cf-95cd976f0ab3"
      },
      "execution_count": null,
      "outputs": [
        {
          "output_type": "execute_result",
          "data": {
            "text/plain": [
              "land_size_sqm                 0\n",
              "house_size_sqm                0\n",
              "no_of_rooms                   0\n",
              "no_of_bathrooms               0\n",
              "large_living_room             0\n",
              "parking_space                 0\n",
              "front_garden                  0\n",
              "swimming_pool                 0\n",
              "distance_to_school_km         0\n",
              "wall_fence                    0\n",
              "house_age_or_renovated        0\n",
              "water_front                   0\n",
              "distance_to_supermarket_km    0\n",
              "property_value                0\n",
              "dtype: int64"
            ]
          },
          "metadata": {},
          "execution_count": 14
        }
      ]
    },
    {
      "cell_type": "code",
      "source": [
        "df['no_of_rooms'].value_counts()"
      ],
      "metadata": {
        "colab": {
          "base_uri": "https://localhost:8080/"
        },
        "id": "qmqTN5TpKii1",
        "outputId": "2c4885e6-dff0-49df-8a4d-21f6ba3af934"
      },
      "execution_count": null,
      "outputs": [
        {
          "output_type": "execute_result",
          "data": {
            "text/plain": [
              "4    1416\n",
              "3    1000\n",
              "5     991\n",
              "2     500\n",
              "1     500\n",
              "6     262\n",
              "7     204\n",
              "8      81\n",
              "Name: no_of_rooms, dtype: int64"
            ]
          },
          "metadata": {},
          "execution_count": 15
        }
      ]
    },
    {
      "cell_type": "code",
      "source": [
        "\n",
        "plt.figure(figsize=(6,6))\n",
        "\n",
        "sns.countplot(x='no_of_rooms',data=df)"
      ],
      "metadata": {
        "colab": {
          "base_uri": "https://localhost:8080/",
          "height": 406
        },
        "id": "W32dbuCYLgz-",
        "outputId": "aa3d523c-d045-4a48-b750-1f32c53230fc"
      },
      "execution_count": null,
      "outputs": [
        {
          "output_type": "execute_result",
          "data": {
            "text/plain": [
              "<Axes: xlabel='no_of_rooms', ylabel='count'>"
            ]
          },
          "metadata": {},
          "execution_count": 16
        },
        {
          "output_type": "display_data",
          "data": {
            "text/plain": [
              "<Figure size 432x432 with 1 Axes>"
            ],
            "image/png": "[encoded data removed]"
          },
          "metadata": {
            "needs_background": "light"
          }
        }
      ]
    },
    {
      "cell_type": "code",
      "source": [
        "df['no_of_bathrooms'].value_counts()"
      ],
      "metadata": {
        "colab": {
          "base_uri": "https://localhost:8080/"
        },
        "id": "11dLI7xaL3xY",
        "outputId": "debec0e7-b009-449d-bbfa-ab3ef133562d"
      },
      "execution_count": null,
      "outputs": [
        {
          "output_type": "execute_result",
          "data": {
            "text/plain": [
              "2    1225\n",
              "3    1041\n",
              "4     950\n",
              "5     732\n",
              "1     701\n",
              "6     119\n",
              "7     105\n",
              "8      60\n",
              "9      21\n",
              "Name: no_of_bathrooms, dtype: int64"
            ]
          },
          "metadata": {},
          "execution_count": 17
        }
      ]
    },
    {
      "cell_type": "code",
      "source": [
        "sns.countplot(x='no_of_bathrooms', data=df)"
      ],
      "metadata": {
        "colab": {
          "base_uri": "https://localhost:8080/",
          "height": 297
        },
        "id": "qA8o5MG-QTmm",
        "outputId": "dd92ed99-030e-4c9f-d3ac-4192d32a5ca1"
      },
      "execution_count": null,
      "outputs": [
        {
          "output_type": "execute_result",
          "data": {
            "text/plain": [
              "<Axes: xlabel='no_of_bathrooms', ylabel='count'>"
            ]
          },
          "metadata": {},
          "execution_count": 18
        },
        {
          "output_type": "display_data",
          "data": {
            "text/plain": [
              "<Figure size 432x288 with 1 Axes>"
            ],
            "image/png": "[encoded data removed]"
          },
          "metadata": {
            "needs_background": "light"
          }
        }
      ]
    },
    {
      "cell_type": "code",
      "source": [
        "df['large_living_room'].value_counts()"
      ],
      "metadata": {
        "colab": {
          "base_uri": "https://localhost:8080/"
        },
        "id": "X2qB7KjVQv0n",
        "outputId": "d663d1af-ce2d-48ed-ce11-57e51797461c"
      },
      "execution_count": null,
      "outputs": [
        {
          "output_type": "execute_result",
          "data": {
            "text/plain": [
              "1.0    3587\n",
              "0.0    1367\n",
              "Name: large_living_room, dtype: int64"
            ]
          },
          "metadata": {},
          "execution_count": 19
        }
      ]
    },
    {
      "cell_type": "code",
      "source": [
        "sns.countplot(x='large_living_room',data=df)\n",
        "\n",
        "# 1.0 = large_living_room\n",
        "# 0.0 = small_living_room"
      ],
      "metadata": {
        "colab": {
          "base_uri": "https://localhost:8080/",
          "height": 297
        },
        "id": "OFZ-A9kfRSI5",
        "outputId": "76453436-3d65-42a1-9f0a-745e89f70105"
      },
      "execution_count": null,
      "outputs": [
        {
          "output_type": "execute_result",
          "data": {
            "text/plain": [
              "<Axes: xlabel='large_living_room', ylabel='count'>"
            ]
          },
          "metadata": {},
          "execution_count": 20
        },
        {
          "output_type": "display_data",
          "data": {
            "text/plain": [
              "<Figure size 432x288 with 1 Axes>"
            ],
            "image/png": "[encoded data removed]"
          },
          "metadata": {
            "needs_background": "light"
          }
        }
      ]
    },
    {
      "cell_type": "code",
      "source": [
        "df['parking_space'].value_counts()"
      ],
      "metadata": {
        "colab": {
          "base_uri": "https://localhost:8080/"
        },
        "id": "kXZPsjWJRbdR",
        "outputId": "9477d30d-99c3-4e0d-cd17-edb22337a27c"
      },
      "execution_count": null,
      "outputs": [
        {
          "output_type": "execute_result",
          "data": {
            "text/plain": [
              "1    3784\n",
              "0    1170\n",
              "Name: parking_space, dtype: int64"
            ]
          },
          "metadata": {},
          "execution_count": 21
        }
      ]
    },
    {
      "cell_type": "code",
      "source": [
        "sns.countplot(x='parking_space', data=df)\n",
        "\n",
        "# 1 = Parking available \n",
        "# 0 = No parking space"
      ],
      "metadata": {
        "colab": {
          "base_uri": "https://localhost:8080/",
          "height": 297
        },
        "id": "rsNJu1SLR9Ok",
        "outputId": "e7c231de-3f5b-4e37-bf33-9cb4d3e128a1"
      },
      "execution_count": null,
      "outputs": [
        {
          "output_type": "execute_result",
          "data": {
            "text/plain": [
              "<Axes: xlabel='parking_space', ylabel='count'>"
            ]
          },
          "metadata": {},
          "execution_count": 22
        },
        {
          "output_type": "display_data",
          "data": {
            "text/plain": [
              "<Figure size 432x288 with 1 Axes>"
            ],
            "image/png": "[encoded data removed]"
          },
          "metadata": {
            "needs_background": "light"
          }
        }
      ]
    },
    {
      "cell_type": "code",
      "source": [
        "df['front_garden'].value_counts()"
      ],
      "metadata": {
        "colab": {
          "base_uri": "https://localhost:8080/"
        },
        "id": "r1TlVkWMSDnR",
        "outputId": "d8b32c47-f525-4610-ef62-48478e0e68aa"
      },
      "execution_count": null,
      "outputs": [
        {
          "output_type": "execute_result",
          "data": {
            "text/plain": [
              "1    3109\n",
              "0    1845\n",
              "Name: front_garden, dtype: int64"
            ]
          },
          "metadata": {},
          "execution_count": 23
        }
      ]
    },
    {
      "cell_type": "code",
      "source": [
        "sns.countplot(x='front_garden', data=df)\n",
        "\n",
        "# 0 = No garden available\n",
        "# 1 = Garden available"
      ],
      "metadata": {
        "colab": {
          "base_uri": "https://localhost:8080/",
          "height": 297
        },
        "id": "-LLRO-hKS6eO",
        "outputId": "d07c3f70-1160-484c-d6d3-c39992d381df"
      },
      "execution_count": null,
      "outputs": [
        {
          "output_type": "execute_result",
          "data": {
            "text/plain": [
              "<Axes: xlabel='front_garden', ylabel='count'>"
            ]
          },
          "metadata": {},
          "execution_count": 24
        },
        {
          "output_type": "display_data",
          "data": {
            "text/plain": [
              "<Figure size 432x288 with 1 Axes>"
            ],
            "image/png": "[encoded data removed]"
          },
          "metadata": {
            "needs_background": "light"
          }
        }
      ]
    },
    {
      "cell_type": "code",
      "source": [
        "df['swimming_pool'].value_counts()"
      ],
      "metadata": {
        "colab": {
          "base_uri": "https://localhost:8080/"
        },
        "id": "aB_n_Cx-TBXN",
        "outputId": "05f627da-a632-4e08-b1d9-ba612315f18e"
      },
      "execution_count": null,
      "outputs": [
        {
          "output_type": "execute_result",
          "data": {
            "text/plain": [
              "1    3060\n",
              "0    1894\n",
              "Name: swimming_pool, dtype: int64"
            ]
          },
          "metadata": {},
          "execution_count": 25
        }
      ]
    },
    {
      "cell_type": "code",
      "source": [
        "sns.countplot(x='swimming_pool', data = df)\n",
        "\n",
        "# 0 = No swimming pool available\n",
        "# 1 = swimming pool available"
      ],
      "metadata": {
        "colab": {
          "base_uri": "https://localhost:8080/",
          "height": 297
        },
        "id": "UcDoeYqHTkUW",
        "outputId": "538d4ef9-12cd-4aee-da9b-3b4db53e815d"
      },
      "execution_count": null,
      "outputs": [
        {
          "output_type": "execute_result",
          "data": {
            "text/plain": [
              "<Axes: xlabel='swimming_pool', ylabel='count'>"
            ]
          },
          "metadata": {},
          "execution_count": 26
        },
        {
          "output_type": "display_data",
          "data": {
            "text/plain": [
              "<Figure size 432x288 with 1 Axes>"
            ],
            "image/png": "[encoded data removed]"
          },
          "metadata": {
            "needs_background": "light"
          }
        }
      ]
    },
    {
      "cell_type": "code",
      "source": [
        "df['distance_to_school_km'].value_counts()"
      ],
      "metadata": {
        "colab": {
          "base_uri": "https://localhost:8080/"
        },
        "id": "QBYKX5YcT4Ai",
        "outputId": "1a1bdb27-7254-4928-f088-64f889fcce6c"
      },
      "execution_count": null,
      "outputs": [
        {
          "output_type": "execute_result",
          "data": {
            "text/plain": [
              "3.3    98\n",
              "4.6    92\n",
              "4.7    90\n",
              "0.7    90\n",
              "1.8    88\n",
              "       ..\n",
              "2.2    68\n",
              "1.4    67\n",
              "6.4    64\n",
              "5.2    61\n",
              "4.8    56\n",
              "Name: distance_to_school_km, Length: 63, dtype: int64"
            ]
          },
          "metadata": {},
          "execution_count": 27
        }
      ]
    },
    {
      "cell_type": "code",
      "source": [
        "plt.figure(figsize=(25,10))\n",
        "sns.countplot(x='distance_to_school_km',data=df)"
      ],
      "metadata": {
        "colab": {
          "base_uri": "https://localhost:8080/",
          "height": 418
        },
        "id": "BKaLoPEmUS_K",
        "outputId": "44b4cb3e-88a0-4a70-ad8b-a123fa56c1de"
      },
      "execution_count": null,
      "outputs": [
        {
          "output_type": "execute_result",
          "data": {
            "text/plain": [
              "<Axes: xlabel='distance_to_school_km', ylabel='count'>"
            ]
          },
          "metadata": {},
          "execution_count": 28
        },
        {
          "output_type": "display_data",
          "data": {
            "text/plain": [
              "<Figure size 1800x720 with 1 Axes>"
            ],
            "image/png": "[encoded data removed]"
          },
          "metadata": {
            "needs_background": "light"
          }
        }
      ]
    },
    {
      "cell_type": "code",
      "source": [
        "df['wall_fence'].value_counts()"
      ],
      "metadata": {
        "colab": {
          "base_uri": "https://localhost:8080/"
        },
        "id": "vbwcjbLlUi56",
        "outputId": "7348ec42-6ec8-4b2e-8405-947d405fdc80"
      },
      "execution_count": null,
      "outputs": [
        {
          "output_type": "execute_result",
          "data": {
            "text/plain": [
              "1    3123\n",
              "0    1831\n",
              "Name: wall_fence, dtype: int64"
            ]
          },
          "metadata": {},
          "execution_count": 29
        }
      ]
    },
    {
      "cell_type": "code",
      "source": [
        "sns.countplot(x='wall_fence',data=df)\n",
        "\n",
        "# 0 = No wall fence\n",
        "# 1 = There is wall fence"
      ],
      "metadata": {
        "colab": {
          "base_uri": "https://localhost:8080/",
          "height": 297
        },
        "id": "AzrXkKqiXjXu",
        "outputId": "031af7d6-f5d6-4c5c-deda-8276b760528f"
      },
      "execution_count": null,
      "outputs": [
        {
          "output_type": "execute_result",
          "data": {
            "text/plain": [
              "<Axes: xlabel='wall_fence', ylabel='count'>"
            ]
          },
          "metadata": {},
          "execution_count": 30
        },
        {
          "output_type": "display_data",
          "data": {
            "text/plain": [
              "<Figure size 432x288 with 1 Axes>"
            ],
            "image/png": "[encoded data removed]"
          },
          "metadata": {
            "needs_background": "light"
          }
        }
      ]
    },
    {
      "cell_type": "code",
      "source": [
        "df['house_age_or_renovated'].value_counts()"
      ],
      "metadata": {
        "colab": {
          "base_uri": "https://localhost:8080/"
        },
        "id": "HAP2fiPNXt26",
        "outputId": "a4fd1c59-217d-4104-ee94-97692610fc09"
      },
      "execution_count": null,
      "outputs": [
        {
          "output_type": "execute_result",
          "data": {
            "text/plain": [
              "9     246\n",
              "1     240\n",
              "17    239\n",
              "3     238\n",
              "20    235\n",
              "4     234\n",
              "16    233\n",
              "11    232\n",
              "13    232\n",
              "15    231\n",
              "7     230\n",
              "2     225\n",
              "12    222\n",
              "19    218\n",
              "21    217\n",
              "22    217\n",
              "5     214\n",
              "18    213\n",
              "14    210\n",
              "8     210\n",
              "10    210\n",
              "6     208\n",
              "Name: house_age_or_renovated, dtype: int64"
            ]
          },
          "metadata": {},
          "execution_count": 31
        }
      ]
    },
    {
      "cell_type": "code",
      "source": [
        "plt.figure(figsize=(10,6))\n",
        "sns.countplot(x='house_age_or_renovated',data=df)"
      ],
      "metadata": {
        "colab": {
          "base_uri": "https://localhost:8080/",
          "height": 406
        },
        "id": "24WQFr3tYSNv",
        "outputId": "e238c005-e65d-446f-fc09-b855cc64c989"
      },
      "execution_count": null,
      "outputs": [
        {
          "output_type": "execute_result",
          "data": {
            "text/plain": [
              "<Axes: xlabel='house_age_or_renovated', ylabel='count'>"
            ]
          },
          "metadata": {},
          "execution_count": 32
        },
        {
          "output_type": "display_data",
          "data": {
            "text/plain": [
              "<Figure size 720x432 with 1 Axes>"
            ],
            "image/png": "[encoded data removed]"
          },
          "metadata": {
            "needs_background": "light"
          }
        }
      ]
    },
    {
      "cell_type": "code",
      "source": [
        "df['water_front'].value_counts()"
      ],
      "metadata": {
        "colab": {
          "base_uri": "https://localhost:8080/"
        },
        "id": "Qva7MGvDYdTp",
        "outputId": "66ea2baa-76d4-4198-9a61-e0ee57455f81"
      },
      "execution_count": null,
      "outputs": [
        {
          "output_type": "execute_result",
          "data": {
            "text/plain": [
              "0    4713\n",
              "1     241\n",
              "Name: water_front, dtype: int64"
            ]
          },
          "metadata": {},
          "execution_count": 33
        }
      ]
    },
    {
      "cell_type": "code",
      "source": [
        "sns.countplot(x='water_front',data=df)\n",
        "\n",
        "# 0 means it is not located near water front\n",
        "# 1 means water front"
      ],
      "metadata": {
        "colab": {
          "base_uri": "https://localhost:8080/",
          "height": 297
        },
        "id": "LyICefsWZBqH",
        "outputId": "085b1895-fb2b-4bb5-d5e5-c41ed423abae"
      },
      "execution_count": null,
      "outputs": [
        {
          "output_type": "execute_result",
          "data": {
            "text/plain": [
              "<Axes: xlabel='water_front', ylabel='count'>"
            ]
          },
          "metadata": {},
          "execution_count": 34
        },
        {
          "output_type": "display_data",
          "data": {
            "text/plain": [
              "<Figure size 432x288 with 1 Axes>"
            ],
            "image/png": "[encoded data removed]"
          },
          "metadata": {
            "needs_background": "light"
          }
        }
      ]
    },
    {
      "cell_type": "code",
      "source": [
        "df['distance_to_supermarket_km'].value_counts()"
      ],
      "metadata": {
        "colab": {
          "base_uri": "https://localhost:8080/"
        },
        "id": "VXXx86HNaJnJ",
        "outputId": "017f182c-420c-4a0e-86b3-5d3568bc7647"
      },
      "execution_count": null,
      "outputs": [
        {
          "output_type": "execute_result",
          "data": {
            "text/plain": [
              "3.5     124\n",
              "2.7      96\n",
              "3.1      94\n",
              "3.3      90\n",
              "3.9      89\n",
              "       ... \n",
              "4.3      62\n",
              "4.6      60\n",
              "70.0      2\n",
              "30.0      1\n",
              "40.0      1\n",
              "Name: distance_to_supermarket_km, Length: 66, dtype: int64"
            ]
          },
          "metadata": {},
          "execution_count": 35
        }
      ]
    },
    {
      "cell_type": "code",
      "source": [
        "plt.figure(figsize=(25,10))\n",
        "sns.countplot(x='distance_to_supermarket_km',data=df)"
      ],
      "metadata": {
        "colab": {
          "base_uri": "https://localhost:8080/",
          "height": 418
        },
        "id": "ypJB9TDqa0FN",
        "outputId": "fce5f766-db2e-4e39-ce37-94c6bf8f5b2d"
      },
      "execution_count": null,
      "outputs": [
        {
          "output_type": "execute_result",
          "data": {
            "text/plain": [
              "<Axes: xlabel='distance_to_supermarket_km', ylabel='count'>"
            ]
          },
          "metadata": {},
          "execution_count": 36
        },
        {
          "output_type": "display_data",
          "data": {
            "text/plain": [
              "<Figure size 1800x720 with 1 Axes>"
            ],
            "image/png": "[encoded data removed]"
          },
          "metadata": {
            "needs_background": "light"
          }
        }
      ]
    },
    {
      "cell_type": "code",
      "source": [
        "sns.boxplot(df['land_size_sqm'])"
      ],
      "metadata": {
        "colab": {
          "base_uri": "https://localhost:8080/",
          "height": 282
        },
        "id": "RqeyGDymbFzs",
        "outputId": "56142474-36ce-479d-a1ae-f9efeb80b061"
      },
      "execution_count": null,
      "outputs": [
        {
          "output_type": "execute_result",
          "data": {
            "text/plain": [
              "<Axes: >"
            ]
          },
          "metadata": {},
          "execution_count": 37
        },
        {
          "output_type": "display_data",
          "data": {
            "text/plain": [
              "<Figure size 432x288 with 1 Axes>"
            ],
            "image/png": "[encoded data removed]"
          },
          "metadata": {
            "needs_background": "light"
          }
        }
      ]
    },
    {
      "cell_type": "code",
      "source": [
        "# Removing the outliers\n",
        "q = df['land_size_sqm'].quantile(0.98)\n",
        "df_cleaned = df[df['land_size_sqm']<q]"
      ],
      "metadata": {
        "id": "0izCWgZMc7rJ"
      },
      "execution_count": null,
      "outputs": []
    },
    {
      "cell_type": "code",
      "source": [
        "sns.boxplot(df['house_size_sqm'])"
      ],
      "metadata": {
        "colab": {
          "base_uri": "https://localhost:8080/",
          "height": 282
        },
        "id": "D9v0iQm91Y7n",
        "outputId": "a418c890-ce18-47bb-ac56-9e2264a92b7a"
      },
      "execution_count": null,
      "outputs": [
        {
          "output_type": "execute_result",
          "data": {
            "text/plain": [
              "<Axes: >"
            ]
          },
          "metadata": {},
          "execution_count": 45
        },
        {
          "output_type": "display_data",
          "data": {
            "text/plain": [
              "<Figure size 432x288 with 1 Axes>"
            ],
            "image/png": "[encoded data removed]"
          },
          "metadata": {
            "needs_background": "light"
          }
        }
      ]
    },
    {
      "cell_type": "code",
      "source": [
        "# Removing the outliers\n",
        "q = df['house_size_sqm'].quantile(0.98)\n",
        "df_cleaned = df[df['house_size_sqm']<q]"
      ],
      "metadata": {
        "id": "f7jcDto_3PPU"
      },
      "execution_count": null,
      "outputs": []
    },
    {
      "cell_type": "code",
      "source": [
        "sns.boxplot(df['no_of_rooms'])"
      ],
      "metadata": {
        "colab": {
          "base_uri": "https://localhost:8080/",
          "height": 282
        },
        "id": "9ud_Bn9R1wDv",
        "outputId": "e62e81d6-02fd-45a3-c03f-3ffe9ceca672"
      },
      "execution_count": null,
      "outputs": [
        {
          "output_type": "execute_result",
          "data": {
            "text/plain": [
              "<Axes: >"
            ]
          },
          "metadata": {},
          "execution_count": 46
        },
        {
          "output_type": "display_data",
          "data": {
            "text/plain": [
              "<Figure size 432x288 with 1 Axes>"
            ],
            "image/png": "[encoded data removed]"
          },
          "metadata": {
            "needs_background": "light"
          }
        }
      ]
    },
    {
      "cell_type": "code",
      "source": [
        "sns.boxplot(df['no_of_bathrooms'])"
      ],
      "metadata": {
        "colab": {
          "base_uri": "https://localhost:8080/",
          "height": 282
        },
        "id": "NM4H1yH519Hh",
        "outputId": "df4acbfa-a920-4e61-ef67-51aefdbbfb5f"
      },
      "execution_count": null,
      "outputs": [
        {
          "output_type": "execute_result",
          "data": {
            "text/plain": [
              "<Axes: >"
            ]
          },
          "metadata": {},
          "execution_count": 47
        },
        {
          "output_type": "display_data",
          "data": {
            "text/plain": [
              "<Figure size 432x288 with 1 Axes>"
            ],
            "image/png": "[encoded data removed]"
          },
          "metadata": {
            "needs_background": "light"
          }
        }
      ]
    },
    {
      "cell_type": "code",
      "source": [
        "# Removing the outliers\n",
        "q = df['no_of_bathrooms'].quantile(0.98)\n",
        "df_cleaned = df[df['no_of_bathrooms']<q]"
      ],
      "metadata": {
        "id": "U_gLSKXY3awp"
      },
      "execution_count": null,
      "outputs": []
    },
    {
      "cell_type": "code",
      "source": [
        "sns.boxplot(df['large_living_room'])"
      ],
      "metadata": {
        "colab": {
          "base_uri": "https://localhost:8080/",
          "height": 282
        },
        "id": "mgueP-zP2A8U",
        "outputId": "87b89f3f-1e23-4b4d-b13b-b4c0cbd4505e"
      },
      "execution_count": null,
      "outputs": [
        {
          "output_type": "execute_result",
          "data": {
            "text/plain": [
              "<Axes: >"
            ]
          },
          "metadata": {},
          "execution_count": 48
        },
        {
          "output_type": "display_data",
          "data": {
            "text/plain": [
              "<Figure size 432x288 with 1 Axes>"
            ],
            "image/png": "[encoded data removed]"
          },
          "metadata": {
            "needs_background": "light"
          }
        }
      ]
    },
    {
      "cell_type": "code",
      "source": [
        "sns.boxplot(df['parking_space'])"
      ],
      "metadata": {
        "colab": {
          "base_uri": "https://localhost:8080/",
          "height": 282
        },
        "id": "6CYckc5Y2Kal",
        "outputId": "d6ab0b46-8b54-4842-864a-b80c8302e71d"
      },
      "execution_count": null,
      "outputs": [
        {
          "output_type": "execute_result",
          "data": {
            "text/plain": [
              "<Axes: >"
            ]
          },
          "metadata": {},
          "execution_count": 49
        },
        {
          "output_type": "display_data",
          "data": {
            "text/plain": [
              "<Figure size 432x288 with 1 Axes>"
            ],
            "image/png": "[encoded data removed]"
          },
          "metadata": {
            "needs_background": "light"
          }
        }
      ]
    },
    {
      "cell_type": "code",
      "source": [
        "sns.boxplot(df['front_garden'])"
      ],
      "metadata": {
        "colab": {
          "base_uri": "https://localhost:8080/",
          "height": 282
        },
        "id": "vvoGBGYk2RwL",
        "outputId": "b2fa3be2-1521-4378-a461-ce790fe79811"
      },
      "execution_count": null,
      "outputs": [
        {
          "output_type": "execute_result",
          "data": {
            "text/plain": [
              "<Axes: >"
            ]
          },
          "metadata": {},
          "execution_count": 50
        },
        {
          "output_type": "display_data",
          "data": {
            "text/plain": [
              "<Figure size 432x288 with 1 Axes>"
            ],
            "image/png": "[encoded data removed]"
          },
          "metadata": {
            "needs_background": "light"
          }
        }
      ]
    },
    {
      "cell_type": "code",
      "source": [
        "sns.boxplot(df['swimming_pool'])"
      ],
      "metadata": {
        "colab": {
          "base_uri": "https://localhost:8080/",
          "height": 282
        },
        "id": "zjzrsPk02jnI",
        "outputId": "4f500e85-c7d0-4745-bfa2-21a0d9e0fa52"
      },
      "execution_count": null,
      "outputs": [
        {
          "output_type": "execute_result",
          "data": {
            "text/plain": [
              "<Axes: >"
            ]
          },
          "metadata": {},
          "execution_count": 51
        },
        {
          "output_type": "display_data",
          "data": {
            "text/plain": [
              "<Figure size 432x288 with 1 Axes>"
            ],
            "image/png": "[encoded data removed]"
          },
          "metadata": {
            "needs_background": "light"
          }
        }
      ]
    },
    {
      "cell_type": "code",
      "source": [
        "sns.boxplot(df['distance_to_school_km'])"
      ],
      "metadata": {
        "colab": {
          "base_uri": "https://localhost:8080/",
          "height": 282
        },
        "id": "bprjSFlD2n4_",
        "outputId": "a06bcee5-dc9e-4fbe-9d4d-e6f4f4ba5b52"
      },
      "execution_count": null,
      "outputs": [
        {
          "output_type": "execute_result",
          "data": {
            "text/plain": [
              "<Axes: >"
            ]
          },
          "metadata": {},
          "execution_count": 52
        },
        {
          "output_type": "display_data",
          "data": {
            "text/plain": [
              "<Figure size 432x288 with 1 Axes>"
            ],
            "image/png": "[encoded data removed]"
          },
          "metadata": {
            "needs_background": "light"
          }
        }
      ]
    },
    {
      "cell_type": "code",
      "source": [
        "sns.boxplot(df['wall_fence'])"
      ],
      "metadata": {
        "colab": {
          "base_uri": "https://localhost:8080/",
          "height": 282
        },
        "id": "rY4A4MYG2wTx",
        "outputId": "d2b6ccf1-a08c-42a4-91cc-2454c395b39d"
      },
      "execution_count": null,
      "outputs": [
        {
          "output_type": "execute_result",
          "data": {
            "text/plain": [
              "<Axes: >"
            ]
          },
          "metadata": {},
          "execution_count": 53
        },
        {
          "output_type": "display_data",
          "data": {
            "text/plain": [
              "<Figure size 432x288 with 1 Axes>"
            ],
            "image/png": "[encoded data removed]"
          },
          "metadata": {
            "needs_background": "light"
          }
        }
      ]
    },
    {
      "cell_type": "code",
      "source": [
        "sns.boxplot(df['house_age_or_renovated'])"
      ],
      "metadata": {
        "colab": {
          "base_uri": "https://localhost:8080/",
          "height": 282
        },
        "id": "XuBZKq-F2z0u",
        "outputId": "7cb9db01-7948-44fd-b68b-500583a96cd5"
      },
      "execution_count": null,
      "outputs": [
        {
          "output_type": "execute_result",
          "data": {
            "text/plain": [
              "<Axes: >"
            ]
          },
          "metadata": {},
          "execution_count": 54
        },
        {
          "output_type": "display_data",
          "data": {
            "text/plain": [
              "<Figure size 432x288 with 1 Axes>"
            ],
            "image/png": "[encoded data removed]"
          },
          "metadata": {
            "needs_background": "light"
          }
        }
      ]
    },
    {
      "cell_type": "code",
      "source": [
        "sns.boxplot(df['water_front'])"
      ],
      "metadata": {
        "colab": {
          "base_uri": "https://localhost:8080/",
          "height": 282
        },
        "id": "6U7PgSDb25uG",
        "outputId": "68ade83c-f636-48d1-a007-71d4922a47cd"
      },
      "execution_count": null,
      "outputs": [
        {
          "output_type": "execute_result",
          "data": {
            "text/plain": [
              "<Axes: >"
            ]
          },
          "metadata": {},
          "execution_count": 55
        },
        {
          "output_type": "display_data",
          "data": {
            "text/plain": [
              "<Figure size 432x288 with 1 Axes>"
            ],
            "image/png": "[encoded data removed]"
          },
          "metadata": {
            "needs_background": "light"
          }
        }
      ]
    },
    {
      "cell_type": "code",
      "source": [
        "sns.boxplot(df['distance_to_supermarket_km'])"
      ],
      "metadata": {
        "colab": {
          "base_uri": "https://localhost:8080/",
          "height": 282
        },
        "id": "FgmiBb85299r",
        "outputId": "ab74005a-c83d-45cf-d3c1-25504a7f82cc"
      },
      "execution_count": null,
      "outputs": [
        {
          "output_type": "execute_result",
          "data": {
            "text/plain": [
              "<Axes: >"
            ]
          },
          "metadata": {},
          "execution_count": 56
        },
        {
          "output_type": "display_data",
          "data": {
            "text/plain": [
              "<Figure size 432x288 with 1 Axes>"
            ],
            "image/png": "[encoded data removed]"
          },
          "metadata": {
            "needs_background": "light"
          }
        }
      ]
    },
    {
      "cell_type": "code",
      "source": [
        "# Removing the outliers\n",
        "q = df['distance_to_supermarket_km'].quantile(0.98)\n",
        "df_cleaned = df[df['distance_to_supermarket_km']<q]"
      ],
      "metadata": {
        "id": "MzDFq1TO3Gkh"
      },
      "execution_count": null,
      "outputs": []
    },
    {
      "cell_type": "code",
      "source": [
        "# Checking the correlation\n",
        "plt.figure(figsize=(10,7))\n",
        "sns.heatmap(df.corr(),annot=True)\n",
        "plt.title('correlation between columns')\n",
        "plt.show()"
      ],
      "metadata": {
        "colab": {
          "base_uri": "https://localhost:8080/",
          "height": 580
        },
        "id": "D76LOTYI5ABq",
        "outputId": "0101df1c-ad03-4958-d69a-440b2a29b705"
      },
      "execution_count": null,
      "outputs": [
        {
          "output_type": "display_data",
          "data": {
            "text/plain": [
              "<Figure size 720x504 with 2 Axes>"
            ],
            "image/png": "[encoded data removed]"
          },
          "metadata": {
            "needs_background": "light"
          }
        }
      ]
    },
    {
      "cell_type": "code",
      "source": [
        "\n",
        "# Split the dataset into training and testing sets\n",
        "train_data, test_data = np.split(df.sample(frac=1, random_state=42), [int(0.8 * len(df))])\n",
        "\n",
        "# Define the input features and target variable\n",
        "X_train = train_data.drop([\"property_value\"], axis=1)\n",
        "y_train = train_data[\"property_value\"]\n",
        "X_test = test_data.drop([ \"property_value\"], axis=1)\n",
        "y_test = test_data[\"property_value\"]\n",
        "\n",
        "# Define a function to calculate the mean squared error\n",
        "def mean_squared_error(y_true, y_pred):\n",
        "    return np.mean((y_true - y_pred)**2)\n",
        "\n",
        "# Define a function to split the data based on a given feature and threshold value\n",
        "def split_data(X, y, feature, threshold):\n",
        "    left_mask = X[feature] <= threshold\n",
        "    right_mask = X[feature] > threshold\n",
        "    X_left, y_left = X.loc[left_mask], y.loc[left_mask]\n",
        "    X_right, y_right = X.loc[right_mask], y.loc[right_mask]\n",
        "    return X_left, y_left, X_right, y_right\n",
        "\n",
        "# Define a function to find the best split point for a given feature\n",
        "def find_best_split(X, y, feature):\n",
        "    # Sort the data by the feature\n",
        "    X_sorted = X.sort_values(feature)\n",
        "    y_sorted = y[X_sorted.index]\n",
        "    # Initialize the best split point and lowest mse\n",
        "    best_split = None\n",
        "    lowest_mse = float(\"inf\")\n",
        "    # Loop through each unique value of the feature\n",
        "    for threshold in X_sorted[feature].unique():\n",
        "        # Split the data at the current threshold\n",
        "        X_left, y_left, X_right, y_right = split_data(X_sorted, y_sorted, feature, threshold)\n",
        "        # Calculate the mse for the current split\n",
        "        mse = mean_squared_error(y_left, y_left.mean()) + mean_squared_error(y_right, y_right.mean())\n",
        "        # Update the best split and lowest mse if the current mse is lower\n",
        "        if mse < lowest_mse:\n",
        "            best_split = (feature, threshold)\n",
        "            lowest_mse = mse\n",
        "    return best_split, lowest_mse"
      ],
      "metadata": {
        "id": "rYMagAqO5QXa"
      },
      "execution_count": null,
      "outputs": []
    },
    {
      "cell_type": "code",
      "source": [
        "# Define a class for decision tree nodes\n",
        "class Node:\n",
        "    def __init__(self, X, y, depth=0, max_depth=5, min_samples_split=2):\n",
        "        self.X = X\n",
        "        self.y = y\n",
        "        self.depth = depth\n",
        "        self.max_depth = max_depth\n",
        "        self.min_samples_split = min_samples_split\n",
        "        self.left = None\n",
        "        self.right = None\n",
        "        self.split_feature = None\n",
        "        self.split_threshold = None\n",
        "        self.prediction = y.mean()\n",
        "        # Stop splitting if the node reaches the maximum depth or minimum number of samples\n",
        "        if depth < max_depth and len(X) >= min_samples_split:\n",
        "            # Find the best split point among all features\n",
        "            best_split, lowest_mse = min([find_best_split(X, y, feature) for feature in X.columns], key=lambda x: x[1])\n",
        "            # Create left and right child nodes and continue splitting recursively\n",
        "            if best_split is not None:\n",
        "                self.split_feature, self.split_threshold = best_split\n",
        "                X_left, y_left, X_right, y_right = split_data(X, y, self.split_feature, self.split_threshold)\n",
        "                self.left = Node(X_left, y_left, depth+1, max_depth, min_samples_split)\n",
        "                self.right = Node(X_right, y_right, depth+1, max_depth, min_samples_split)\n",
        "                self.prediction = None\n",
        "\n",
        "    def predict_row(self, row):\n",
        "        # Recursively traverse the tree to find the prediction for a given row\n",
        "        if self.prediction is not None:\n",
        "            return self.prediction\n",
        "        elif row[self.split_feature] <= self.split_threshold:\n",
        "            return self.left.predict_row(row)\n",
        "        else:\n",
        "            return self.right.predict_row(row)\n",
        "\n",
        "    def predict(self, X):\n",
        "        # Make predictions for all rows in X\n",
        "        return np.array([self.predict_row(X.iloc[i]) for i in range(len(X))])\n",
        "\n",
        "# Train the decision tree on the training data\n",
        "tree = Node(X_train, y_train)\n",
        "\n",
        "# Make predictions on the testing data\n",
        "y_pred = tree.predict(X_test)\n",
        "\n"
      ],
      "metadata": {
        "id": "bSFqYnS35iLH"
      },
      "execution_count": null,
      "outputs": []
    },
    {
      "cell_type": "code",
      "source": [
        "# Calculate the mean squared error of the predictions\n",
        "mse = mean_squared_error(y_test, y_pred)\n",
        "print(\"Mean Squared Error:\", mse)"
      ],
      "metadata": {
        "colab": {
          "base_uri": "https://localhost:8080/"
        },
        "id": "nt0LLykl5xTd",
        "outputId": "bc818d03-64bb-43c7-aed2-3f5d7d5f5b6e"
      },
      "execution_count": null,
      "outputs": [
        {
          "output_type": "stream",
          "name": "stdout",
          "text": [
            "Mean Squared Error: 5605588409.949023\n"
          ]
        }
      ]
    },
    {
      "cell_type": "code",
      "source": [
        "y_pred"
      ],
      "metadata": {
        "colab": {
          "base_uri": "https://localhost:8080/"
        },
        "id": "pNv12w0u53Sc",
        "outputId": "a0a210ca-7e9a-4fa9-a6ae-91b43d38c51b"
      },
      "execution_count": null,
      "outputs": [
        {
          "output_type": "execute_result",
          "data": {
            "text/plain": [
              "array([234537.19309701, 234537.19309701, 234537.19309701,  88216.4248366 ,\n",
              "       234537.19309701, 234537.19309701, 113649.41296928, 234537.19309701,\n",
              "       234537.19309701, 113649.41296928, 234537.19309701, 234537.19309701,\n",
              "       234537.19309701, 234537.19309701, 234537.19309701, 234537.19309701,\n",
              "       234537.19309701, 113649.41296928, 234537.19309701, 113649.41296928,\n",
              "       234537.19309701, 234537.19309701, 234537.19309701, 234537.19309701,\n",
              "       234537.19309701, 234537.19309701, 234537.19309701, 234537.19309701,\n",
              "       234537.19309701, 234537.19309701, 234537.19309701, 234537.19309701,\n",
              "       234537.19309701, 234537.19309701, 234537.19309701, 234537.19309701,\n",
              "       113649.41296928, 113649.41296928, 113649.41296928, 234537.19309701,\n",
              "       234537.19309701, 234537.19309701, 234537.19309701, 113649.41296928,\n",
              "       234537.19309701, 234537.19309701, 234537.19309701, 113649.41296928,\n",
              "       234537.19309701, 234537.19309701, 234537.19309701, 234537.19309701,\n",
              "       234537.19309701, 234537.19309701, 234537.19309701, 234537.19309701,\n",
              "        88216.4248366 , 234537.19309701, 234537.19309701, 234537.19309701,\n",
              "       234537.19309701, 234537.19309701, 234537.19309701, 234537.19309701,\n",
              "       234537.19309701, 234537.19309701, 234537.19309701, 234537.19309701,\n",
              "       113649.41296928, 234537.19309701, 234537.19309701, 234537.19309701,\n",
              "       234537.19309701, 234537.19309701, 234537.19309701, 113649.41296928,\n",
              "       234537.19309701, 234537.19309701, 113649.41296928, 234537.19309701,\n",
              "       234537.19309701, 234537.19309701, 234537.19309701, 234537.19309701,\n",
              "       234537.19309701, 113649.41296928, 234537.19309701, 234537.19309701,\n",
              "       234537.19309701, 234537.19309701, 234537.19309701, 234537.19309701,\n",
              "       234537.19309701, 234537.19309701, 234537.19309701, 234537.19309701,\n",
              "       113649.41296928, 234537.19309701, 234537.19309701, 234537.19309701,\n",
              "       234537.19309701, 234537.19309701, 234537.19309701, 234537.19309701,\n",
              "       113649.41296928, 234537.19309701, 234537.19309701, 234537.19309701,\n",
              "       234537.19309701, 234537.19309701, 113649.41296928, 234537.19309701,\n",
              "       234537.19309701, 234537.19309701, 234537.19309701, 234537.19309701,\n",
              "       234537.19309701, 234537.19309701, 677978.        , 234537.19309701,\n",
              "       234537.19309701, 234537.19309701, 234537.19309701, 234537.19309701,\n",
              "       234537.19309701, 234537.19309701, 234537.19309701, 113649.41296928,\n",
              "       234537.19309701, 234537.19309701, 234537.19309701, 234537.19309701,\n",
              "       234537.19309701, 234537.19309701, 113649.41296928,  88216.4248366 ,\n",
              "       234537.19309701, 234537.19309701, 234537.19309701, 234537.19309701,\n",
              "       234537.19309701, 234537.19309701, 234537.19309701,  88216.4248366 ,\n",
              "       234537.19309701, 234537.19309701, 234537.19309701, 234537.19309701,\n",
              "       234537.19309701, 234537.19309701, 234537.19309701, 234537.19309701,\n",
              "       234537.19309701, 234537.19309701, 113649.41296928, 234537.19309701,\n",
              "       234537.19309701, 234537.19309701, 234537.19309701, 234537.19309701,\n",
              "       234537.19309701, 234537.19309701, 113649.41296928, 113649.41296928,\n",
              "       234537.19309701, 234537.19309701, 113649.41296928, 234537.19309701,\n",
              "       234537.19309701, 234537.19309701, 234537.19309701,  88216.4248366 ,\n",
              "       113649.41296928, 234537.19309701, 113649.41296928, 234537.19309701,\n",
              "       234537.19309701, 234537.19309701, 113649.41296928, 234537.19309701,\n",
              "       234537.19309701, 234537.19309701, 234537.19309701, 234537.19309701,\n",
              "       234537.19309701,  88216.4248366 , 234537.19309701, 234537.19309701,\n",
              "       113649.41296928, 234537.19309701, 113649.41296928, 234537.19309701,\n",
              "        88216.4248366 , 234537.19309701, 113649.41296928, 234537.19309701,\n",
              "       234537.19309701, 113649.41296928, 234537.19309701, 234537.19309701,\n",
              "       234537.19309701, 113649.41296928, 234537.19309701, 234537.19309701,\n",
              "       234537.19309701, 234537.19309701, 234537.19309701, 234537.19309701,\n",
              "       234537.19309701, 234537.19309701, 234537.19309701, 113649.41296928,\n",
              "       234537.19309701, 234537.19309701, 234537.19309701, 234537.19309701,\n",
              "       234537.19309701, 234537.19309701, 113649.41296928, 234537.19309701,\n",
              "       234537.19309701, 234537.19309701, 234537.19309701, 234537.19309701,\n",
              "       234537.19309701, 234537.19309701, 234537.19309701, 234537.19309701,\n",
              "       234537.19309701, 234537.19309701, 234537.19309701, 113649.41296928,\n",
              "       234537.19309701, 234537.19309701, 113649.41296928, 234537.19309701,\n",
              "       234537.19309701, 234537.19309701, 234537.19309701, 234537.19309701,\n",
              "       234537.19309701, 234537.19309701, 234537.19309701, 234537.19309701,\n",
              "       234537.19309701, 234537.19309701, 234537.19309701, 234537.19309701,\n",
              "       234537.19309701, 234537.19309701, 234537.19309701, 234537.19309701,\n",
              "       234537.19309701, 234537.19309701, 234537.19309701,  88216.4248366 ,\n",
              "       234537.19309701, 234537.19309701, 234537.19309701,  88216.4248366 ,\n",
              "       113649.41296928, 113649.41296928, 113649.41296928, 234537.19309701,\n",
              "       234537.19309701, 234537.19309701, 234537.19309701, 234537.19309701,\n",
              "       234537.19309701, 234537.19309701, 234537.19309701, 113649.41296928,\n",
              "       234537.19309701, 234537.19309701,  88216.4248366 , 113649.41296928,\n",
              "       234537.19309701, 234537.19309701, 113649.41296928, 234537.19309701,\n",
              "       234537.19309701, 234537.19309701, 234537.19309701, 234537.19309701,\n",
              "       113649.41296928, 234537.19309701, 234537.19309701, 234537.19309701,\n",
              "       234537.19309701, 234537.19309701, 234537.19309701, 234537.19309701,\n",
              "       234537.19309701, 234537.19309701, 113649.41296928, 234537.19309701,\n",
              "       234537.19309701, 234537.19309701, 234537.19309701, 234537.19309701,\n",
              "        88216.4248366 , 234537.19309701, 234537.19309701, 234537.19309701,\n",
              "       234537.19309701, 234537.19309701, 234537.19309701, 234537.19309701,\n",
              "       113649.41296928, 113649.41296928, 234537.19309701, 234537.19309701,\n",
              "        88216.4248366 , 234537.19309701, 234537.19309701, 234537.19309701,\n",
              "       234537.19309701, 234537.19309701, 234537.19309701, 234537.19309701,\n",
              "       234537.19309701, 234537.19309701, 113649.41296928, 234537.19309701,\n",
              "       113649.41296928, 234537.19309701, 234537.19309701, 234537.19309701,\n",
              "       234537.19309701, 234537.19309701, 234537.19309701, 234537.19309701,\n",
              "       234537.19309701, 234537.19309701, 234537.19309701,  88216.4248366 ,\n",
              "       234537.19309701, 234537.19309701, 234537.19309701, 234537.19309701,\n",
              "       234537.19309701, 234537.19309701, 234537.19309701, 234537.19309701,\n",
              "       234537.19309701, 234537.19309701, 234537.19309701, 234537.19309701,\n",
              "       113649.41296928, 234537.19309701, 234537.19309701, 234537.19309701,\n",
              "       234537.19309701, 234537.19309701, 234537.19309701, 113649.41296928,\n",
              "       234537.19309701, 234537.19309701, 234537.19309701, 234537.19309701,\n",
              "       234537.19309701, 234537.19309701, 113649.41296928, 234537.19309701,\n",
              "       234537.19309701, 234537.19309701, 234537.19309701, 113649.41296928,\n",
              "       234537.19309701, 113649.41296928, 234537.19309701, 113649.41296928,\n",
              "       234537.19309701, 113649.41296928, 234537.19309701, 234537.19309701,\n",
              "       234537.19309701,  88216.4248366 , 113649.41296928, 234537.19309701,\n",
              "       234537.19309701, 234537.19309701, 234537.19309701, 234537.19309701,\n",
              "       113649.41296928, 234537.19309701, 113649.41296928, 113649.41296928,\n",
              "       234537.19309701, 234537.19309701, 234537.19309701, 234537.19309701,\n",
              "       113649.41296928,  88216.4248366 , 234537.19309701, 234537.19309701,\n",
              "       113649.41296928, 113649.41296928, 234537.19309701, 234537.19309701,\n",
              "       234537.19309701, 234537.19309701, 234537.19309701, 234537.19309701,\n",
              "       113649.41296928, 234537.19309701, 234537.19309701, 234537.19309701,\n",
              "       234537.19309701, 234537.19309701, 234537.19309701, 234537.19309701,\n",
              "       234537.19309701, 234537.19309701, 113649.41296928, 234537.19309701,\n",
              "       113649.41296928, 234537.19309701, 113649.41296928, 234537.19309701,\n",
              "       113649.41296928, 234537.19309701, 234537.19309701, 234537.19309701,\n",
              "       234537.19309701, 234537.19309701,  88216.4248366 , 234537.19309701,\n",
              "       113649.41296928, 234537.19309701, 234537.19309701, 234537.19309701,\n",
              "       234537.19309701, 234537.19309701, 113649.41296928, 234537.19309701,\n",
              "        88216.4248366 , 234537.19309701, 234537.19309701, 234537.19309701,\n",
              "       234537.19309701, 234537.19309701, 234537.19309701, 113649.41296928,\n",
              "       234537.19309701, 113649.41296928, 234537.19309701, 234537.19309701,\n",
              "       113649.41296928, 234537.19309701, 113649.41296928, 113649.41296928,\n",
              "       234537.19309701, 234537.19309701, 234537.19309701, 234537.19309701,\n",
              "        88216.4248366 , 234537.19309701, 113649.41296928, 234537.19309701,\n",
              "       113649.41296928, 234537.19309701, 234537.19309701, 234537.19309701,\n",
              "       234537.19309701,  88216.4248366 , 234537.19309701, 113649.41296928,\n",
              "       234537.19309701, 234537.19309701, 234537.19309701, 234537.19309701,\n",
              "       234537.19309701, 234537.19309701, 234537.19309701, 234537.19309701,\n",
              "       234537.19309701, 234537.19309701, 234537.19309701, 234537.19309701,\n",
              "       113649.41296928, 234537.19309701, 234537.19309701, 234537.19309701,\n",
              "       234537.19309701, 234537.19309701, 113649.41296928, 113649.41296928,\n",
              "       234537.19309701, 234537.19309701, 234537.19309701, 234537.19309701,\n",
              "       113649.41296928, 234537.19309701, 113649.41296928, 234537.19309701,\n",
              "       234537.19309701, 113649.41296928, 234537.19309701, 234537.19309701,\n",
              "       234537.19309701, 234537.19309701, 234537.19309701, 234537.19309701,\n",
              "       113649.41296928,  88216.4248366 , 113649.41296928, 234537.19309701,\n",
              "       234537.19309701, 234537.19309701, 234537.19309701, 234537.19309701,\n",
              "       234537.19309701, 113649.41296928, 234537.19309701, 234537.19309701,\n",
              "       234537.19309701, 234537.19309701, 234537.19309701, 234537.19309701,\n",
              "       234537.19309701, 234537.19309701, 234537.19309701, 113649.41296928,\n",
              "       234537.19309701, 234537.19309701, 234537.19309701, 234537.19309701,\n",
              "       234537.19309701, 234537.19309701,  88216.4248366 , 113649.41296928,\n",
              "       234537.19309701, 234537.19309701, 234537.19309701, 234537.19309701,\n",
              "       234537.19309701, 234537.19309701, 234537.19309701, 234537.19309701,\n",
              "       234537.19309701, 113649.41296928, 234537.19309701, 234537.19309701,\n",
              "       234537.19309701, 234537.19309701, 234537.19309701, 234537.19309701,\n",
              "       113649.41296928, 234537.19309701, 234537.19309701, 234537.19309701,\n",
              "       113649.41296928,  88216.4248366 , 234537.19309701, 234537.19309701,\n",
              "       234537.19309701, 234537.19309701, 234537.19309701, 234537.19309701,\n",
              "       113649.41296928, 113649.41296928, 234537.19309701, 234537.19309701,\n",
              "       234537.19309701, 234537.19309701, 234537.19309701, 234537.19309701,\n",
              "       234537.19309701, 234537.19309701, 234537.19309701,  88216.4248366 ,\n",
              "       234537.19309701, 234537.19309701, 234537.19309701, 234537.19309701,\n",
              "       234537.19309701,  88216.4248366 , 234537.19309701, 234537.19309701,\n",
              "       234537.19309701, 234537.19309701, 234537.19309701, 234537.19309701,\n",
              "       234537.19309701, 234537.19309701, 234537.19309701, 234537.19309701,\n",
              "       234537.19309701, 234537.19309701, 113649.41296928, 234537.19309701,\n",
              "       234537.19309701, 113649.41296928, 234537.19309701, 113649.41296928,\n",
              "       234537.19309701, 234537.19309701, 234537.19309701, 113649.41296928,\n",
              "       234537.19309701, 234537.19309701, 234537.19309701, 234537.19309701,\n",
              "       234537.19309701, 234537.19309701, 234537.19309701, 234537.19309701,\n",
              "       234537.19309701, 234537.19309701, 234537.19309701, 234537.19309701,\n",
              "       234537.19309701, 234537.19309701, 234537.19309701, 234537.19309701,\n",
              "       234537.19309701, 234537.19309701, 234537.19309701, 234537.19309701,\n",
              "       234537.19309701, 234537.19309701, 234537.19309701, 234537.19309701,\n",
              "       234537.19309701, 234537.19309701, 234537.19309701, 234537.19309701,\n",
              "        88216.4248366 , 234537.19309701, 234537.19309701, 234537.19309701,\n",
              "       113649.41296928, 234537.19309701, 234537.19309701, 234537.19309701,\n",
              "       234537.19309701, 234537.19309701, 234537.19309701, 113649.41296928,\n",
              "       234537.19309701, 234537.19309701, 234537.19309701, 234537.19309701,\n",
              "       234537.19309701, 234537.19309701, 234537.19309701, 234537.19309701,\n",
              "       234537.19309701, 234537.19309701, 234537.19309701, 234537.19309701,\n",
              "       234537.19309701, 234537.19309701, 113649.41296928, 113649.41296928,\n",
              "       234537.19309701, 113649.41296928, 113649.41296928, 234537.19309701,\n",
              "       234537.19309701,  88216.4248366 , 113649.41296928, 113649.41296928,\n",
              "       234537.19309701, 234537.19309701, 113649.41296928, 113649.41296928,\n",
              "       234537.19309701, 234537.19309701, 234537.19309701, 234537.19309701,\n",
              "       234537.19309701, 234537.19309701, 234537.19309701, 234537.19309701,\n",
              "       234537.19309701, 234537.19309701, 234537.19309701, 234537.19309701,\n",
              "       234537.19309701, 234537.19309701, 234537.19309701, 234537.19309701,\n",
              "       234537.19309701, 234537.19309701, 234537.19309701, 234537.19309701,\n",
              "       234537.19309701, 234537.19309701, 234537.19309701, 234537.19309701,\n",
              "       113649.41296928, 618139.        , 234537.19309701, 234537.19309701,\n",
              "       234537.19309701, 234537.19309701, 234537.19309701, 234537.19309701,\n",
              "       234537.19309701, 113649.41296928, 234537.19309701, 234537.19309701,\n",
              "       234537.19309701, 113649.41296928, 234537.19309701, 234537.19309701,\n",
              "       234537.19309701, 234537.19309701, 234537.19309701, 234537.19309701,\n",
              "       113649.41296928, 234537.19309701, 234537.19309701, 234537.19309701,\n",
              "       234537.19309701, 234537.19309701, 234537.19309701, 113649.41296928,\n",
              "       234537.19309701, 234537.19309701, 234537.19309701, 234537.19309701,\n",
              "       234537.19309701, 234537.19309701,  88216.4248366 , 113649.41296928,\n",
              "       113649.41296928, 234537.19309701, 234537.19309701, 113649.41296928,\n",
              "       234537.19309701, 234537.19309701, 113649.41296928, 234537.19309701,\n",
              "       234537.19309701, 234537.19309701, 234537.19309701, 234537.19309701,\n",
              "       234537.19309701, 234537.19309701,  88216.4248366 , 234537.19309701,\n",
              "       234537.19309701, 113649.41296928, 234537.19309701, 234537.19309701,\n",
              "       234537.19309701, 234537.19309701, 113649.41296928, 113649.41296928,\n",
              "       234537.19309701, 113649.41296928, 234537.19309701, 234537.19309701,\n",
              "       234537.19309701, 113649.41296928, 234537.19309701, 234537.19309701,\n",
              "       234537.19309701, 234537.19309701, 234537.19309701, 234537.19309701,\n",
              "       234537.19309701, 234537.19309701, 234537.19309701, 113649.41296928,\n",
              "       113649.41296928, 113649.41296928, 234537.19309701, 234537.19309701,\n",
              "       234537.19309701, 234537.19309701, 234537.19309701, 234537.19309701,\n",
              "       113649.41296928, 234537.19309701, 234537.19309701, 234537.19309701,\n",
              "       234537.19309701, 113649.41296928, 234537.19309701, 113649.41296928,\n",
              "       234537.19309701, 234537.19309701, 234537.19309701, 234537.19309701,\n",
              "       113649.41296928, 234537.19309701, 113649.41296928, 234537.19309701,\n",
              "       234537.19309701, 234537.19309701, 234537.19309701, 234537.19309701,\n",
              "       234537.19309701, 234537.19309701, 234537.19309701, 234537.19309701,\n",
              "       234537.19309701, 234537.19309701, 234537.19309701, 113649.41296928,\n",
              "       234537.19309701, 234537.19309701, 234537.19309701, 234537.19309701,\n",
              "       234537.19309701,  88216.4248366 , 234537.19309701, 113649.41296928,\n",
              "       234537.19309701, 234537.19309701, 234537.19309701, 234537.19309701,\n",
              "       234537.19309701, 234537.19309701, 126607.        , 113649.41296928,\n",
              "       234537.19309701, 234537.19309701, 234537.19309701, 234537.19309701,\n",
              "       234537.19309701, 234537.19309701, 234537.19309701, 113649.41296928,\n",
              "       234537.19309701, 113649.41296928, 234537.19309701, 234537.19309701,\n",
              "       234537.19309701, 234537.19309701, 234537.19309701, 234537.19309701,\n",
              "       234537.19309701, 234537.19309701, 234537.19309701, 234537.19309701,\n",
              "       113649.41296928, 234537.19309701, 234537.19309701, 234537.19309701,\n",
              "       234537.19309701, 113649.41296928, 234537.19309701, 113649.41296928,\n",
              "       234537.19309701, 234537.19309701, 234537.19309701, 234537.19309701,\n",
              "       234537.19309701, 113649.41296928, 234537.19309701, 113649.41296928,\n",
              "       234537.19309701, 234537.19309701, 234537.19309701, 234537.19309701,\n",
              "       234537.19309701, 234537.19309701, 234537.19309701, 234537.19309701,\n",
              "       234537.19309701, 113649.41296928, 234537.19309701, 234537.19309701,\n",
              "       234537.19309701, 113649.41296928, 113649.41296928, 113649.41296928,\n",
              "       234537.19309701, 234537.19309701,  88216.4248366 , 234537.19309701,\n",
              "       234537.19309701, 113649.41296928, 234537.19309701, 234537.19309701,\n",
              "       234537.19309701,  88216.4248366 , 234537.19309701, 234537.19309701,\n",
              "       234537.19309701, 234537.19309701, 234537.19309701, 234537.19309701,\n",
              "       234537.19309701,  88216.4248366 , 234537.19309701, 234537.19309701,\n",
              "       234537.19309701, 234537.19309701, 234537.19309701, 234537.19309701,\n",
              "       234537.19309701, 234537.19309701, 234537.19309701, 234537.19309701,\n",
              "       234537.19309701, 234537.19309701, 113649.41296928, 234537.19309701,\n",
              "       234537.19309701, 113649.41296928, 113649.41296928, 234537.19309701,\n",
              "       234537.19309701, 234537.19309701, 113649.41296928, 113649.41296928,\n",
              "       234537.19309701, 234537.19309701, 126607.        , 234537.19309701,\n",
              "       234537.19309701, 234537.19309701, 234537.19309701, 234537.19309701,\n",
              "       234537.19309701, 234537.19309701, 234537.19309701, 234537.19309701,\n",
              "       113649.41296928, 234537.19309701, 234537.19309701, 113649.41296928,\n",
              "       234537.19309701, 234537.19309701, 234537.19309701, 234537.19309701,\n",
              "       234537.19309701, 234537.19309701, 234537.19309701, 234537.19309701,\n",
              "       234537.19309701, 234537.19309701, 234537.19309701,  88216.4248366 ,\n",
              "       234537.19309701, 113649.41296928, 234537.19309701, 113649.41296928,\n",
              "       234537.19309701, 234537.19309701, 234537.19309701, 113649.41296928,\n",
              "       234537.19309701, 234537.19309701, 234537.19309701, 234537.19309701,\n",
              "       234537.19309701, 234537.19309701, 234537.19309701, 234537.19309701,\n",
              "       234537.19309701, 234537.19309701, 234537.19309701, 234537.19309701,\n",
              "       234537.19309701, 234537.19309701, 234537.19309701, 234537.19309701,\n",
              "       234537.19309701, 234537.19309701, 234537.19309701, 234537.19309701,\n",
              "       234537.19309701, 234537.19309701, 234537.19309701, 234537.19309701,\n",
              "       113649.41296928, 234537.19309701, 234537.19309701, 113649.41296928,\n",
              "       234537.19309701, 234537.19309701, 234537.19309701, 234537.19309701,\n",
              "       113649.41296928, 113649.41296928, 234537.19309701, 234537.19309701,\n",
              "       113649.41296928, 234537.19309701, 234537.19309701, 234537.19309701,\n",
              "       113649.41296928, 234537.19309701, 234537.19309701])"
            ]
          },
          "metadata": {},
          "execution_count": 72
        }
      ]
    },
    {
      "cell_type": "code",
      "source": [
        "pred_df = pd.DataFrame({'property_value':y_pred})"
      ],
      "metadata": {
        "id": "alsTYtzn6DTD"
      },
      "execution_count": null,
      "outputs": []
    },
    {
      "cell_type": "code",
      "source": [
        "pred_df.head()"
      ],
      "metadata": {
        "colab": {
          "base_uri": "https://localhost:8080/",
          "height": 206
        },
        "id": "f2kaHtmV6yyN",
        "outputId": "6991e291-d8bd-4f2b-f0b3-3e6bdb2faa6a"
      },
      "execution_count": null,
      "outputs": [
        {
          "output_type": "execute_result",
          "data": {
            "text/plain": [
              "   property_value\n",
              "0   234537.193097\n",
              "1   234537.193097\n",
              "2   234537.193097\n",
              "3    88216.424837\n",
              "4   234537.193097"
            ],
            "text/html": [
              "\n",
              "  <div id=\"df-8016ea8b-7a4c-4971-aafd-d2bbaa646e2d\">\n",
              "    <div class=\"colab-df-container\">\n",
              "      <div>\n",
              "<style scoped>\n",
              "    .dataframe tbody tr th:only-of-type {\n",
              "        vertical-align: middle;\n",
              "    }\n",
              "\n",
              "    .dataframe tbody tr th {\n",
              "        vertical-align: top;\n",
              "    }\n",
              "\n",
              "    .dataframe thead th {\n",
              "        text-align: right;\n",
              "    }\n",
              "</style>\n",
              "<table border=\"1\" class=\"dataframe\">\n",
              "  <thead>\n",
              "    <tr style=\"text-align: right;\">\n",
              "      <th></th>\n",
              "      <th>property_value</th>\n",
              "    </tr>\n",
              "  </thead>\n",
              "  <tbody>\n",
              "    <tr>\n",
              "      <th>0</th>\n",
              "      <td>234537.193097</td>\n",
              "    </tr>\n",
              "    <tr>\n",
              "      <th>1</th>\n",
              "      <td>234537.193097</td>\n",
              "    </tr>\n",
              "    <tr>\n",
              "      <th>2</th>\n",
              "      <td>234537.193097</td>\n",
              "    </tr>\n",
              "    <tr>\n",
              "      <th>3</th>\n",
              "      <td>88216.424837</td>\n",
              "    </tr>\n",
              "    <tr>\n",
              "      <th>4</th>\n",
              "      <td>234537.193097</td>\n",
              "    </tr>\n",
              "  </tbody>\n",
              "</table>\n",
              "</div>\n",
              "      <button class=\"colab-df-convert\" onclick=\"convertToInteractive('df-8016ea8b-7a4c-4971-aafd-d2bbaa646e2d')\"\n",
              "              title=\"Convert this dataframe to an interactive table.\"\n",
              "              style=\"display:none;\">\n",
              "        \n",
              "  <svg xmlns=\"http://www.w3.org/2000/svg\" height=\"24px\"viewBox=\"0 0 24 24\"\n",
              "       width=\"24px\">\n",
              "    <path d=\"M0 0h24v24H0V0z\" fill=\"none\"/>\n",
              "    <path d=\"M18.56 5.44l.94 2.06.94-2.06 2.06-.94-2.06-.94-.94-2.06-.94 2.06-2.06.94zm-11 1L8.5 8.5l.94-2.06 2.06-.94-2.06-.94L8.5 2.5l-.94 2.06-2.06.94zm10 10l.94 2.06.94-2.06 2.06-.94-2.06-.94-.94-2.06-.94 2.06-2.06.94z\"/><path d=\"M17.41 7.96l-1.37-1.37c-.4-.4-.92-.59-1.43-.59-.52 0-1.04.2-1.43.59L10.3 9.45l-7.72 7.72c-.78.78-.78 2.05 0 2.83L4 21.41c.39.39.9.59 1.41.59.51 0 1.02-.2 1.41-.59l7.78-7.78 2.81-2.81c.8-.78.8-2.07 0-2.86zM5.41 20L4 18.59l7.72-7.72 1.47 1.35L5.41 20z\"/>\n",
              "  </svg>\n",
              "      </button>\n",
              "      \n",
              "  <style>\n",
              "    .colab-df-container {\n",
              "      display:flex;\n",
              "      flex-wrap:wrap;\n",
              "      gap: 12px;\n",
              "    }\n",
              "\n",
              "    .colab-df-convert {\n",
              "      background-color: #E8F0FE;\n",
              "      border: none;\n",
              "      border-radius: 50%;\n",
              "      cursor: pointer;\n",
              "      display: none;\n",
              "      fill: #1967D2;\n",
              "      height: 32px;\n",
              "      padding: 0 0 0 0;\n",
              "      width: 32px;\n",
              "    }\n",
              "\n",
              "    .colab-df-convert:hover {\n",
              "      background-color: #E2EBFA;\n",
              "      box-shadow: 0px 1px 2px rgba(60, 64, 67, 0.3), 0px 1px 3px 1px rgba(60, 64, 67, 0.15);\n",
              "      fill: #174EA6;\n",
              "    }\n",
              "\n",
              "    [theme=dark] .colab-df-convert {\n",
              "      background-color: #3B4455;\n",
              "      fill: #D2E3FC;\n",
              "    }\n",
              "\n",
              "    [theme=dark] .colab-df-convert:hover {\n",
              "      background-color: #434B5C;\n",
              "      box-shadow: 0px 1px 3px 1px rgba(0, 0, 0, 0.15);\n",
              "      filter: drop-shadow(0px 1px 2px rgba(0, 0, 0, 0.3));\n",
              "      fill: #FFFFFF;\n",
              "    }\n",
              "  </style>\n",
              "\n",
              "      <script>\n",
              "        const buttonEl =\n",
              "          document.querySelector('#df-8016ea8b-7a4c-4971-aafd-d2bbaa646e2d button.colab-df-convert');\n",
              "        buttonEl.style.display =\n",
              "          google.colab.kernel.accessAllowed ? 'block' : 'none';\n",
              "\n",
              "        async function convertToInteractive(key) {\n",
              "          const element = document.querySelector('#df-8016ea8b-7a4c-4971-aafd-d2bbaa646e2d');\n",
              "          const dataTable =\n",
              "            await google.colab.kernel.invokeFunction('convertToInteractive',\n",
              "                                                     [key], {});\n",
              "          if (!dataTable) return;\n",
              "\n",
              "          const docLinkHtml = 'Like what you see? Visit the ' +\n",
              "            '<a target=\"_blank\" href=https://colab.research.google.com/notebooks/data_table.ipynb>data table notebook</a>'\n",
              "            + ' to learn more about interactive tables.';\n",
              "          element.innerHTML = '';\n",
              "          dataTable['output_type'] = 'display_data';\n",
              "          await google.colab.output.renderOutput(dataTable, element);\n",
              "          const docLink = document.createElement('div');\n",
              "          docLink.innerHTML = docLinkHtml;\n",
              "          element.appendChild(docLink);\n",
              "        }\n",
              "      </script>\n",
              "    </div>\n",
              "  </div>\n",
              "  "
            ]
          },
          "metadata": {},
          "execution_count": 74
        }
      ]
    },
    {
      "cell_type": "code",
      "source": [
        "print(\"Predicted values:\", y_pred)\n",
        "print(\"Actual values:\", y_test.values)"
      ],
      "metadata": {
        "colab": {
          "base_uri": "https://localhost:8080/"
        },
        "id": "2T9GIao464gq",
        "outputId": "a75ebfe8-4ba3-4892-8aae-ffab1672d966"
      },
      "execution_count": null,
      "outputs": [
        {
          "output_type": "stream",
          "name": "stdout",
          "text": [
            "Predicted values: [234537.19309701 234537.19309701 234537.19309701  88216.4248366\n",
            " 234537.19309701 234537.19309701 113649.41296928 234537.19309701\n",
            " 234537.19309701 113649.41296928 234537.19309701 234537.19309701\n",
            " 234537.19309701 234537.19309701 234537.19309701 234537.19309701\n",
            " 234537.19309701 113649.41296928 234537.19309701 113649.41296928\n",
            " 234537.19309701 234537.19309701 234537.19309701 234537.19309701\n",
            " 234537.19309701 234537.19309701 234537.19309701 234537.19309701\n",
            " 234537.19309701 234537.19309701 234537.19309701 234537.19309701\n",
            " 234537.19309701 234537.19309701 234537.19309701 234537.19309701\n",
            " 113649.41296928 113649.41296928 113649.41296928 234537.19309701\n",
            " 234537.19309701 234537.19309701 234537.19309701 113649.41296928\n",
            " 234537.19309701 234537.19309701 234537.19309701 113649.41296928\n",
            " 234537.19309701 234537.19309701 234537.19309701 234537.19309701\n",
            " 234537.19309701 234537.19309701 234537.19309701 234537.19309701\n",
            "  88216.4248366  234537.19309701 234537.19309701 234537.19309701\n",
            " 234537.19309701 234537.19309701 234537.19309701 234537.19309701\n",
            " 234537.19309701 234537.19309701 234537.19309701 234537.19309701\n",
            " 113649.41296928 234537.19309701 234537.19309701 234537.19309701\n",
            " 234537.19309701 234537.19309701 234537.19309701 113649.41296928\n",
            " 234537.19309701 234537.19309701 113649.41296928 234537.19309701\n",
            " 234537.19309701 234537.19309701 234537.19309701 234537.19309701\n",
            " 234537.19309701 113649.41296928 234537.19309701 234537.19309701\n",
            " 234537.19309701 234537.19309701 234537.19309701 234537.19309701\n",
            " 234537.19309701 234537.19309701 234537.19309701 234537.19309701\n",
            " 113649.41296928 234537.19309701 234537.19309701 234537.19309701\n",
            " 234537.19309701 234537.19309701 234537.19309701 234537.19309701\n",
            " 113649.41296928 234537.19309701 234537.19309701 234537.19309701\n",
            " 234537.19309701 234537.19309701 113649.41296928 234537.19309701\n",
            " 234537.19309701 234537.19309701 234537.19309701 234537.19309701\n",
            " 234537.19309701 234537.19309701 677978.         234537.19309701\n",
            " 234537.19309701 234537.19309701 234537.19309701 234537.19309701\n",
            " 234537.19309701 234537.19309701 234537.19309701 113649.41296928\n",
            " 234537.19309701 234537.19309701 234537.19309701 234537.19309701\n",
            " 234537.19309701 234537.19309701 113649.41296928  88216.4248366\n",
            " 234537.19309701 234537.19309701 234537.19309701 234537.19309701\n",
            " 234537.19309701 234537.19309701 234537.19309701  88216.4248366\n",
            " 234537.19309701 234537.19309701 234537.19309701 234537.19309701\n",
            " 234537.19309701 234537.19309701 234537.19309701 234537.19309701\n",
            " 234537.19309701 234537.19309701 113649.41296928 234537.19309701\n",
            " 234537.19309701 234537.19309701 234537.19309701 234537.19309701\n",
            " 234537.19309701 234537.19309701 113649.41296928 113649.41296928\n",
            " 234537.19309701 234537.19309701 113649.41296928 234537.19309701\n",
            " 234537.19309701 234537.19309701 234537.19309701  88216.4248366\n",
            " 113649.41296928 234537.19309701 113649.41296928 234537.19309701\n",
            " 234537.19309701 234537.19309701 113649.41296928 234537.19309701\n",
            " 234537.19309701 234537.19309701 234537.19309701 234537.19309701\n",
            " 234537.19309701  88216.4248366  234537.19309701 234537.19309701\n",
            " 113649.41296928 234537.19309701 113649.41296928 234537.19309701\n",
            "  88216.4248366  234537.19309701 113649.41296928 234537.19309701\n",
            " 234537.19309701 113649.41296928 234537.19309701 234537.19309701\n",
            " 234537.19309701 113649.41296928 234537.19309701 234537.19309701\n",
            " 234537.19309701 234537.19309701 234537.19309701 234537.19309701\n",
            " 234537.19309701 234537.19309701 234537.19309701 113649.41296928\n",
            " 234537.19309701 234537.19309701 234537.19309701 234537.19309701\n",
            " 234537.19309701 234537.19309701 113649.41296928 234537.19309701\n",
            " 234537.19309701 234537.19309701 234537.19309701 234537.19309701\n",
            " 234537.19309701 234537.19309701 234537.19309701 234537.19309701\n",
            " 234537.19309701 234537.19309701 234537.19309701 113649.41296928\n",
            " 234537.19309701 234537.19309701 113649.41296928 234537.19309701\n",
            " 234537.19309701 234537.19309701 234537.19309701 234537.19309701\n",
            " 234537.19309701 234537.19309701 234537.19309701 234537.19309701\n",
            " 234537.19309701 234537.19309701 234537.19309701 234537.19309701\n",
            " 234537.19309701 234537.19309701 234537.19309701 234537.19309701\n",
            " 234537.19309701 234537.19309701 234537.19309701  88216.4248366\n",
            " 234537.19309701 234537.19309701 234537.19309701  88216.4248366\n",
            " 113649.41296928 113649.41296928 113649.41296928 234537.19309701\n",
            " 234537.19309701 234537.19309701 234537.19309701 234537.19309701\n",
            " 234537.19309701 234537.19309701 234537.19309701 113649.41296928\n",
            " 234537.19309701 234537.19309701  88216.4248366  113649.41296928\n",
            " 234537.19309701 234537.19309701 113649.41296928 234537.19309701\n",
            " 234537.19309701 234537.19309701 234537.19309701 234537.19309701\n",
            " 113649.41296928 234537.19309701 234537.19309701 234537.19309701\n",
            " 234537.19309701 234537.19309701 234537.19309701 234537.19309701\n",
            " 234537.19309701 234537.19309701 113649.41296928 234537.19309701\n",
            " 234537.19309701 234537.19309701 234537.19309701 234537.19309701\n",
            "  88216.4248366  234537.19309701 234537.19309701 234537.19309701\n",
            " 234537.19309701 234537.19309701 234537.19309701 234537.19309701\n",
            " 113649.41296928 113649.41296928 234537.19309701 234537.19309701\n",
            "  88216.4248366  234537.19309701 234537.19309701 234537.19309701\n",
            " 234537.19309701 234537.19309701 234537.19309701 234537.19309701\n",
            " 234537.19309701 234537.19309701 113649.41296928 234537.19309701\n",
            " 113649.41296928 234537.19309701 234537.19309701 234537.19309701\n",
            " 234537.19309701 234537.19309701 234537.19309701 234537.19309701\n",
            " 234537.19309701 234537.19309701 234537.19309701  88216.4248366\n",
            " 234537.19309701 234537.19309701 234537.19309701 234537.19309701\n",
            " 234537.19309701 234537.19309701 234537.19309701 234537.19309701\n",
            " 234537.19309701 234537.19309701 234537.19309701 234537.19309701\n",
            " 113649.41296928 234537.19309701 234537.19309701 234537.19309701\n",
            " 234537.19309701 234537.19309701 234537.19309701 113649.41296928\n",
            " 234537.19309701 234537.19309701 234537.19309701 234537.19309701\n",
            " 234537.19309701 234537.19309701 113649.41296928 234537.19309701\n",
            " 234537.19309701 234537.19309701 234537.19309701 113649.41296928\n",
            " 234537.19309701 113649.41296928 234537.19309701 113649.41296928\n",
            " 234537.19309701 113649.41296928 234537.19309701 234537.19309701\n",
            " 234537.19309701  88216.4248366  113649.41296928 234537.19309701\n",
            " 234537.19309701 234537.19309701 234537.19309701 234537.19309701\n",
            " 113649.41296928 234537.19309701 113649.41296928 113649.41296928\n",
            " 234537.19309701 234537.19309701 234537.19309701 234537.19309701\n",
            " 113649.41296928  88216.4248366  234537.19309701 234537.19309701\n",
            " 113649.41296928 113649.41296928 234537.19309701 234537.19309701\n",
            " 234537.19309701 234537.19309701 234537.19309701 234537.19309701\n",
            " 113649.41296928 234537.19309701 234537.19309701 234537.19309701\n",
            " 234537.19309701 234537.19309701 234537.19309701 234537.19309701\n",
            " 234537.19309701 234537.19309701 113649.41296928 234537.19309701\n",
            " 113649.41296928 234537.19309701 113649.41296928 234537.19309701\n",
            " 113649.41296928 234537.19309701 234537.19309701 234537.19309701\n",
            " 234537.19309701 234537.19309701  88216.4248366  234537.19309701\n",
            " 113649.41296928 234537.19309701 234537.19309701 234537.19309701\n",
            " 234537.19309701 234537.19309701 113649.41296928 234537.19309701\n",
            "  88216.4248366  234537.19309701 234537.19309701 234537.19309701\n",
            " 234537.19309701 234537.19309701 234537.19309701 113649.41296928\n",
            " 234537.19309701 113649.41296928 234537.19309701 234537.19309701\n",
            " 113649.41296928 234537.19309701 113649.41296928 113649.41296928\n",
            " 234537.19309701 234537.19309701 234537.19309701 234537.19309701\n",
            "  88216.4248366  234537.19309701 113649.41296928 234537.19309701\n",
            " 113649.41296928 234537.19309701 234537.19309701 234537.19309701\n",
            " 234537.19309701  88216.4248366  234537.19309701 113649.41296928\n",
            " 234537.19309701 234537.19309701 234537.19309701 234537.19309701\n",
            " 234537.19309701 234537.19309701 234537.19309701 234537.19309701\n",
            " 234537.19309701 234537.19309701 234537.19309701 234537.19309701\n",
            " 113649.41296928 234537.19309701 234537.19309701 234537.19309701\n",
            " 234537.19309701 234537.19309701 113649.41296928 113649.41296928\n",
            " 234537.19309701 234537.19309701 234537.19309701 234537.19309701\n",
            " 113649.41296928 234537.19309701 113649.41296928 234537.19309701\n",
            " 234537.19309701 113649.41296928 234537.19309701 234537.19309701\n",
            " 234537.19309701 234537.19309701 234537.19309701 234537.19309701\n",
            " 113649.41296928  88216.4248366  113649.41296928 234537.19309701\n",
            " 234537.19309701 234537.19309701 234537.19309701 234537.19309701\n",
            " 234537.19309701 113649.41296928 234537.19309701 234537.19309701\n",
            " 234537.19309701 234537.19309701 234537.19309701 234537.19309701\n",
            " 234537.19309701 234537.19309701 234537.19309701 113649.41296928\n",
            " 234537.19309701 234537.19309701 234537.19309701 234537.19309701\n",
            " 234537.19309701 234537.19309701  88216.4248366  113649.41296928\n",
            " 234537.19309701 234537.19309701 234537.19309701 234537.19309701\n",
            " 234537.19309701 234537.19309701 234537.19309701 234537.19309701\n",
            " 234537.19309701 113649.41296928 234537.19309701 234537.19309701\n",
            " 234537.19309701 234537.19309701 234537.19309701 234537.19309701\n",
            " 113649.41296928 234537.19309701 234537.19309701 234537.19309701\n",
            " 113649.41296928  88216.4248366  234537.19309701 234537.19309701\n",
            " 234537.19309701 234537.19309701 234537.19309701 234537.19309701\n",
            " 113649.41296928 113649.41296928 234537.19309701 234537.19309701\n",
            " 234537.19309701 234537.19309701 234537.19309701 234537.19309701\n",
            " 234537.19309701 234537.19309701 234537.19309701  88216.4248366\n",
            " 234537.19309701 234537.19309701 234537.19309701 234537.19309701\n",
            " 234537.19309701  88216.4248366  234537.19309701 234537.19309701\n",
            " 234537.19309701 234537.19309701 234537.19309701 234537.19309701\n",
            " 234537.19309701 234537.19309701 234537.19309701 234537.19309701\n",
            " 234537.19309701 234537.19309701 113649.41296928 234537.19309701\n",
            " 234537.19309701 113649.41296928 234537.19309701 113649.41296928\n",
            " 234537.19309701 234537.19309701 234537.19309701 113649.41296928\n",
            " 234537.19309701 234537.19309701 234537.19309701 234537.19309701\n",
            " 234537.19309701 234537.19309701 234537.19309701 234537.19309701\n",
            " 234537.19309701 234537.19309701 234537.19309701 234537.19309701\n",
            " 234537.19309701 234537.19309701 234537.19309701 234537.19309701\n",
            " 234537.19309701 234537.19309701 234537.19309701 234537.19309701\n",
            " 234537.19309701 234537.19309701 234537.19309701 234537.19309701\n",
            " 234537.19309701 234537.19309701 234537.19309701 234537.19309701\n",
            "  88216.4248366  234537.19309701 234537.19309701 234537.19309701\n",
            " 113649.41296928 234537.19309701 234537.19309701 234537.19309701\n",
            " 234537.19309701 234537.19309701 234537.19309701 113649.41296928\n",
            " 234537.19309701 234537.19309701 234537.19309701 234537.19309701\n",
            " 234537.19309701 234537.19309701 234537.19309701 234537.19309701\n",
            " 234537.19309701 234537.19309701 234537.19309701 234537.19309701\n",
            " 234537.19309701 234537.19309701 113649.41296928 113649.41296928\n",
            " 234537.19309701 113649.41296928 113649.41296928 234537.19309701\n",
            " 234537.19309701  88216.4248366  113649.41296928 113649.41296928\n",
            " 234537.19309701 234537.19309701 113649.41296928 113649.41296928\n",
            " 234537.19309701 234537.19309701 234537.19309701 234537.19309701\n",
            " 234537.19309701 234537.19309701 234537.19309701 234537.19309701\n",
            " 234537.19309701 234537.19309701 234537.19309701 234537.19309701\n",
            " 234537.19309701 234537.19309701 234537.19309701 234537.19309701\n",
            " 234537.19309701 234537.19309701 234537.19309701 234537.19309701\n",
            " 234537.19309701 234537.19309701 234537.19309701 234537.19309701\n",
            " 113649.41296928 618139.         234537.19309701 234537.19309701\n",
            " 234537.19309701 234537.19309701 234537.19309701 234537.19309701\n",
            " 234537.19309701 113649.41296928 234537.19309701 234537.19309701\n",
            " 234537.19309701 113649.41296928 234537.19309701 234537.19309701\n",
            " 234537.19309701 234537.19309701 234537.19309701 234537.19309701\n",
            " 113649.41296928 234537.19309701 234537.19309701 234537.19309701\n",
            " 234537.19309701 234537.19309701 234537.19309701 113649.41296928\n",
            " 234537.19309701 234537.19309701 234537.19309701 234537.19309701\n",
            " 234537.19309701 234537.19309701  88216.4248366  113649.41296928\n",
            " 113649.41296928 234537.19309701 234537.19309701 113649.41296928\n",
            " 234537.19309701 234537.19309701 113649.41296928 234537.19309701\n",
            " 234537.19309701 234537.19309701 234537.19309701 234537.19309701\n",
            " 234537.19309701 234537.19309701  88216.4248366  234537.19309701\n",
            " 234537.19309701 113649.41296928 234537.19309701 234537.19309701\n",
            " 234537.19309701 234537.19309701 113649.41296928 113649.41296928\n",
            " 234537.19309701 113649.41296928 234537.19309701 234537.19309701\n",
            " 234537.19309701 113649.41296928 234537.19309701 234537.19309701\n",
            " 234537.19309701 234537.19309701 234537.19309701 234537.19309701\n",
            " 234537.19309701 234537.19309701 234537.19309701 113649.41296928\n",
            " 113649.41296928 113649.41296928 234537.19309701 234537.19309701\n",
            " 234537.19309701 234537.19309701 234537.19309701 234537.19309701\n",
            " 113649.41296928 234537.19309701 234537.19309701 234537.19309701\n",
            " 234537.19309701 113649.41296928 234537.19309701 113649.41296928\n",
            " 234537.19309701 234537.19309701 234537.19309701 234537.19309701\n",
            " 113649.41296928 234537.19309701 113649.41296928 234537.19309701\n",
            " 234537.19309701 234537.19309701 234537.19309701 234537.19309701\n",
            " 234537.19309701 234537.19309701 234537.19309701 234537.19309701\n",
            " 234537.19309701 234537.19309701 234537.19309701 113649.41296928\n",
            " 234537.19309701 234537.19309701 234537.19309701 234537.19309701\n",
            " 234537.19309701  88216.4248366  234537.19309701 113649.41296928\n",
            " 234537.19309701 234537.19309701 234537.19309701 234537.19309701\n",
            " 234537.19309701 234537.19309701 126607.         113649.41296928\n",
            " 234537.19309701 234537.19309701 234537.19309701 234537.19309701\n",
            " 234537.19309701 234537.19309701 234537.19309701 113649.41296928\n",
            " 234537.19309701 113649.41296928 234537.19309701 234537.19309701\n",
            " 234537.19309701 234537.19309701 234537.19309701 234537.19309701\n",
            " 234537.19309701 234537.19309701 234537.19309701 234537.19309701\n",
            " 113649.41296928 234537.19309701 234537.19309701 234537.19309701\n",
            " 234537.19309701 113649.41296928 234537.19309701 113649.41296928\n",
            " 234537.19309701 234537.19309701 234537.19309701 234537.19309701\n",
            " 234537.19309701 113649.41296928 234537.19309701 113649.41296928\n",
            " 234537.19309701 234537.19309701 234537.19309701 234537.19309701\n",
            " 234537.19309701 234537.19309701 234537.19309701 234537.19309701\n",
            " 234537.19309701 113649.41296928 234537.19309701 234537.19309701\n",
            " 234537.19309701 113649.41296928 113649.41296928 113649.41296928\n",
            " 234537.19309701 234537.19309701  88216.4248366  234537.19309701\n",
            " 234537.19309701 113649.41296928 234537.19309701 234537.19309701\n",
            " 234537.19309701  88216.4248366  234537.19309701 234537.19309701\n",
            " 234537.19309701 234537.19309701 234537.19309701 234537.19309701\n",
            " 234537.19309701  88216.4248366  234537.19309701 234537.19309701\n",
            " 234537.19309701 234537.19309701 234537.19309701 234537.19309701\n",
            " 234537.19309701 234537.19309701 234537.19309701 234537.19309701\n",
            " 234537.19309701 234537.19309701 113649.41296928 234537.19309701\n",
            " 234537.19309701 113649.41296928 113649.41296928 234537.19309701\n",
            " 234537.19309701 234537.19309701 113649.41296928 113649.41296928\n",
            " 234537.19309701 234537.19309701 126607.         234537.19309701\n",
            " 234537.19309701 234537.19309701 234537.19309701 234537.19309701\n",
            " 234537.19309701 234537.19309701 234537.19309701 234537.19309701\n",
            " 113649.41296928 234537.19309701 234537.19309701 113649.41296928\n",
            " 234537.19309701 234537.19309701 234537.19309701 234537.19309701\n",
            " 234537.19309701 234537.19309701 234537.19309701 234537.19309701\n",
            " 234537.19309701 234537.19309701 234537.19309701  88216.4248366\n",
            " 234537.19309701 113649.41296928 234537.19309701 113649.41296928\n",
            " 234537.19309701 234537.19309701 234537.19309701 113649.41296928\n",
            " 234537.19309701 234537.19309701 234537.19309701 234537.19309701\n",
            " 234537.19309701 234537.19309701 234537.19309701 234537.19309701\n",
            " 234537.19309701 234537.19309701 234537.19309701 234537.19309701\n",
            " 234537.19309701 234537.19309701 234537.19309701 234537.19309701\n",
            " 234537.19309701 234537.19309701 234537.19309701 234537.19309701\n",
            " 234537.19309701 234537.19309701 234537.19309701 234537.19309701\n",
            " 113649.41296928 234537.19309701 234537.19309701 113649.41296928\n",
            " 234537.19309701 234537.19309701 234537.19309701 234537.19309701\n",
            " 113649.41296928 113649.41296928 234537.19309701 234537.19309701\n",
            " 113649.41296928 234537.19309701 234537.19309701 234537.19309701\n",
            " 113649.41296928 234537.19309701 234537.19309701]\n",
            "Actual values: [ 233450  233610  284988   93606  312908  168099   96454  470906  296554\n",
            "  114591  215143  274055  226594  281576  155924  205589  281600   81185\n",
            "  245958  111540  319758  226475  170053  186090  283742  281519  163765\n",
            "  224251  210303  200818  400605  132905  162167  148967  230183  229649\n",
            "  103971   84492  103990  171109  266157  228720  265412  111650  189309\n",
            "  130999  531311  125571  227461  241442  287218  307951  170728  239002\n",
            "  159438  197667   83069  242143  161682  153103  140141  185888  231110\n",
            "  201425  285688  268513  142441  219419  111927  345215  479400  255791\n",
            "  269919  174366  529400  128500  203009  165222  121659  208537  253219\n",
            "  194375  223779  378415  211289  149535  300432  256793  216950  165200\n",
            "  278605  233204  190732  181197  176615  174006  131848  153509  261564\n",
            "  406590  169499  151387  272419  277978  105574  228626  160234  245203\n",
            "  462752  159421   93343  134779  152017  252441  160931  181682  240475\n",
            "  159644  609592  208256  230016  198060  292092  218051  376644  217141\n",
            "  188784  126997  251490  245302  209899  185055  171663  137960  103952\n",
            "   84373  441434  251723  308608  173084  278655  233787  309875   85294\n",
            "  278832  203754  213986  238893  427044  166903  187335  337011  261831\n",
            "  264083   89310  166086  176874  254189  268251  382989  132127  231256\n",
            "  125001  106936  187131  164516   92491  138587  177194  254477  212625\n",
            "   86723  111208  250890  103449  238560  182581  160859  103927  232428\n",
            "  177700  238001  229921  157121  243814   93268  133244  291357  111086\n",
            "  158034  122094  208959   90520  253049  111167  196721  264810   99699\n",
            "  214371  221472  148474   94337  180718  215126  370236  206556  220970\n",
            "  247704  180832  155943  415555  107054  426147  175627  394457  139157\n",
            "  201851  188503   98121  148232  318781  165117  176741  166330  180196\n",
            "  249321  235505  171640  181709  177750  207603  109397  183693  264883\n",
            "  104813  463487  203383  156739  263038  183191  129521  179055  346494\n",
            "  211946  151577  256297  198295  222067  133099  205120  234406  323935\n",
            "  247733  202116  180846   97201  231698  301425  413440   78469  131551\n",
            "  112938   99161  153574  237672  171303  176087  184396  220452  260047\n",
            "  239265   98863  312698  136956   82758  117987  282622  226284  148272\n",
            "  175970  208324  238482  256375  243912  127042  389417  207561  237339\n",
            "  219101  211935  206553  291419  280584  279377  115610  195857  242173\n",
            "  140638  240422  156167   79006  247112  271656  191943  348163  334987\n",
            "  374814  217981  104304  121854  310918  226876   94203  358195  188419\n",
            "  252852  250163  231601  150222  150559  315619  145554  104430  251209\n",
            "  119608  409048  223234  199886  134442  261925  185980  389849  299950\n",
            "  286854  204371   91419  152299  180245  195548  216265  350711  260263\n",
            "  261590  232414  344946  220026  301279  174892  109658  245444  268428\n",
            "  135234  376626  231244  265462  112861  132360  341088  180183  165072\n",
            "  195179  301792   92529  168834  274705  174746  338242  114721  160150\n",
            "   94132  244414  112365  264258  141717  139891  287434  275508   76163\n",
            "   87342  186688  192517  162339  566376  169056  130108  263050  157974\n",
            "  102890  212111  132017  179745  353965   92907   87105  348783  218191\n",
            "  114027  102250  262022  236730  254359  153049  135813  247354  106296\n",
            "  304502  218654  260078  300560  154408  264051  202065  206882  149476\n",
            "  113370  393621  100543  287167   95243  132061  119545  277952  294677\n",
            "  327702  211390  351637   91478  208595  134936  209883  249235  231395\n",
            "  142511  202193   87662  160116  109534  184350  236535  234081  191642\n",
            "  147188  316375  148868  275568  131828  342990  149306  110914  240326\n",
            "   95860   86570  268865  178191  144171  296141   95842  167107  118727\n",
            "  405710  110693  162279  302585  215853  226419   98322  216936   79944\n",
            "  252889  249844  280419  237733  288264  199285  224618  207354  165633\n",
            "  180886  151133  231412  123099  248325  224447  288798  306205  171732\n",
            "  126500  118873  262997  242547  262667  211081  101137  171550  131450\n",
            "  238855  176891  108595  237546  231672  223191  156193  211991  266422\n",
            "  123313   92210  113716  498561  386876  310316  202616  304086  194984\n",
            "   87427  302977  259189  196450  190852  189987  205308  214617  193940\n",
            "  182450  118149  256901  232444  134767  313774  195922  230458   68314\n",
            "  107807  209606  202671  199574  232742  159534  145218  214377  202969\n",
            "  449651   92170  193866  257988  258006  506131  186221  259618  122914\n",
            "  225940  179913  253803  121120   84803  251424  233371  261610  158433\n",
            "  168673  257357   86422  141232  221498  169023  187312  179617  247439\n",
            "  205862  186655  147197  267882   74048  222448  256969  282651  175569\n",
            "  351622  106359  245157  175569  213565  184402  208347  193269  211310\n",
            "  188399  170742  215565  184592  217991  120976  154312  246794  115399\n",
            "  269251  115080  243496  276470  166633  125698  336529  252215  220594\n",
            "  122851  232643  223218  156325  220714  169023  154088  140386  169989\n",
            "  204915  404843  226241  191090  420005  304656  286364  137653  213973\n",
            "  465515  189008  281070  231192  190579  264239  138002  105663  192482\n",
            "  180400  142075  117061  273255  262662  258707  150992  191043  178879\n",
            "  111223  223972  239819  286960  216329  129455  149064  238948  143909\n",
            "  205446  161357  154284  158481  138392  263684   87752  120487  224832\n",
            "  118821  129433  129971  242240   83018  108070   99294  225094  248629\n",
            "   90583  111964  271941  225103  268178  161494  410919  299410  195592\n",
            "  210195  236525  316789  229304  255120  496571  234631  224636  210728\n",
            "  154691  220490  190114  240359  293591  218192  212966  229983  113662\n",
            "  621041  240879  295860  222888  216249  167736  285277  217778  143689\n",
            "  262760  140641  265634  129379  521632  164757  145483  241681  215180\n",
            "  207652   92981  262183  258012  176740  219802  221209  202848  126043\n",
            "  388183  226140  235319  302319  291206  242866   94478  102589  103113\n",
            "  504391  286288   99245  146780  140896  109804  256338  146384  191796\n",
            "  143367  271552  190234  250789   96951  181850  471780  102343  458068\n",
            "  366186  203699  344033  136280  128073  183608  102913  369662  247277\n",
            "  269778  148206  281461  174152  242104  187644  228284  243265  212008\n",
            "  275324  289791  136365  128503  126391  167692  230562  227389  251737\n",
            "  164793  227264  120683  351176  289047  161055  152105  113404  137599\n",
            "  101783  402757  228741  172069  232594   96106  362977  124323  185153\n",
            "  215324  180929  258748  236911  200199  233719  175924  309439  260024\n",
            "  263251  155000  116821  289061  186068  169734  188343  249461   82969\n",
            "  174302  122353  190212  248190  366867  187750  231160  256347  148270\n",
            "  109260  244707  224642  145454  251428  174477  167137  139660   93358\n",
            "  187368   92032  159681  183573  258638  324793  170708  245497  238123\n",
            "  252076  501186  178971   96660  164408  185085  187036  278675  127707\n",
            "  240651   83393  176831  211311  241162  220301  337652  104940  225123\n",
            "  128175  189138  254607  118820  213774  143252  148200  231940  225057\n",
            "  280824   97487  127896  345129  355405  113652  137215  126761  231622\n",
            "  437490   86380  298182  200460  122270  159126  236401  168137   70820\n",
            "  279219  171887  253206  252353  452974  143448  143817   78321  218553\n",
            "  306568  169438  565774  122868  211242  329638  236356  249480  243181\n",
            "  271455  144017  132262  241833  185506  126691  103782  236178  258081\n",
            "  412240  114997  108496  247311  218490  135802  139917  261271  174886\n",
            "  172421  444753  388194  145493  225167  229543  111066  389387  206461\n",
            "   87881  323455  162083  175785  202200  280693  187002  115995  547601\n",
            "  292498  244109  169431   86758  267144  137413  261226   96243  164094\n",
            "  244068  214611  150856  162675  258792  207326  245532  385068  160603\n",
            "  236766  208682  246559  173521  174538  305951  176852  238044  262924\n",
            "  403676  242413  238352  219661  278719  132196  221479  162511  203961\n",
            "  107392  162615  168378  136351  204085  189337  129246  187765  114434\n",
            "   92173  161903  465387 1058581  391005  245170  286639  123872  281194\n",
            "  194897]\n"
          ]
        }
      ]
    },
    {
      "cell_type": "code",
      "source": [],
      "metadata": {
        "id": "iOUuUPNz7Ck5"
      },
      "execution_count": null,
      "outputs": []
    }
  ]
}