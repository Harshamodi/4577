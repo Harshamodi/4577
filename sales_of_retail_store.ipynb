{
  "nbformat": 4,
  "nbformat_minor": 0,
  "metadata": {
    "colab": {
      "provenance": []
    },
    "kernelspec": {
      "name": "python3",
      "display_name": "Python 3"
    },
    "language_info": {
      "name": "python"
    }
  },
  "cells": [
    {
      "cell_type": "markdown",
      "source": [
        "problem statement:\n",
        "\n",
        "Problem statement : predict the sales of retail stores Target: sales Error metrics: MSE bold text"
      ],
      "metadata": {
        "id": "tgeloHQDMIoe"
      }
    },
    {
      "cell_type": "code",
      "execution_count": 1,
      "metadata": {
        "id": "KzMg3ipP3jXc"
      },
      "outputs": [],
      "source": [
        "import pandas as pd\n",
        "import numpy as np\n",
        "import matplotlib.pyplot as plt\n",
        "import seaborn as sns"
      ]
    },
    {
      "cell_type": "code",
      "source": [
        "from google.colab import drive\n",
        "\n",
        "drive.mount(\"/content/drive\")"
      ],
      "metadata": {
        "colab": {
          "base_uri": "https://localhost:8080/"
        },
        "id": "esX0g88W3uaF",
        "outputId": "472e5910-84ef-4507-f8e8-c20c27793b82"
      },
      "execution_count": 2,
      "outputs": [
        {
          "output_type": "stream",
          "name": "stdout",
          "text": [
            "Mounted at /content/drive\n"
          ]
        }
      ]
    },
    {
      "cell_type": "code",
      "source": [
        "train = pd.read_csv('/content/drive/MyDrive/regression 3/regression/Sales of retail store/train_data.csv')"
      ],
      "metadata": {
        "id": "Q6IW2-7w4Bg4"
      },
      "execution_count": 3,
      "outputs": []
    },
    {
      "cell_type": "code",
      "source": [
        "test = pd.read_csv('/content/drive/MyDrive/regression 3/regression/Sales of retail store/test_data.csv')"
      ],
      "metadata": {
        "id": "kEtzXBiZ1epo"
      },
      "execution_count": 4,
      "outputs": []
    },
    {
      "cell_type": "code",
      "source": [
        "week_id = pd.read_csv('/content/drive/MyDrive/regression 3/regression/Sales of retail store/date_to_week_id_map.csv')"
      ],
      "metadata": {
        "id": "6CDQsAu61ed4"
      },
      "execution_count": 6,
      "outputs": []
    },
    {
      "cell_type": "code",
      "source": [
        "df1 = pd.merge(train,week_id, how='outer')"
      ],
      "metadata": {
        "id": "31kyZdKa2FeD"
      },
      "execution_count": 7,
      "outputs": []
    },
    {
      "cell_type": "code",
      "source": [
        "df2 = pd.merge(test,week_id, how='outer')"
      ],
      "metadata": {
        "id": "R3vrOKHc2ZAc"
      },
      "execution_count": 8,
      "outputs": []
    },
    {
      "cell_type": "code",
      "source": [
        "df1.head()"
      ],
      "metadata": {
        "colab": {
          "base_uri": "https://localhost:8080/",
          "height": 250
        },
        "id": "ED3D5knM2jhS",
        "outputId": "911b9de6-6896-419e-bc58-6f33df4284c3"
      },
      "execution_count": 10,
      "outputs": [
        {
          "output_type": "execute_result",
          "data": {
            "text/plain": [
              "         date  product_identifier  department_identifier  \\\n",
              "0  2012-01-01                74.0                   11.0   \n",
              "1  2012-01-01               337.0                   11.0   \n",
              "2  2012-01-01               423.0                   12.0   \n",
              "3  2012-01-01               432.0                   12.0   \n",
              "4  2012-01-01               581.0                   21.0   \n",
              "\n",
              "          category_of_product  outlet        state  sales  week_id  \n",
              "0                      others   111.0  Maharashtra    0.0       49  \n",
              "1                      others   111.0  Maharashtra    1.0       49  \n",
              "2                      others   111.0  Maharashtra    0.0       49  \n",
              "3                      others   111.0  Maharashtra    0.0       49  \n",
              "4  fast_moving_consumer_goods   111.0  Maharashtra    0.0       49  "
            ],
            "text/html": [
              "\n",
              "  <div id=\"df-b030773e-2ef7-42ee-95d4-63ab19427291\">\n",
              "    <div class=\"colab-df-container\">\n",
              "      <div>\n",
              "<style scoped>\n",
              "    .dataframe tbody tr th:only-of-type {\n",
              "        vertical-align: middle;\n",
              "    }\n",
              "\n",
              "    .dataframe tbody tr th {\n",
              "        vertical-align: top;\n",
              "    }\n",
              "\n",
              "    .dataframe thead th {\n",
              "        text-align: right;\n",
              "    }\n",
              "</style>\n",
              "<table border=\"1\" class=\"dataframe\">\n",
              "  <thead>\n",
              "    <tr style=\"text-align: right;\">\n",
              "      <th></th>\n",
              "      <th>date</th>\n",
              "      <th>product_identifier</th>\n",
              "      <th>department_identifier</th>\n",
              "      <th>category_of_product</th>\n",
              "      <th>outlet</th>\n",
              "      <th>state</th>\n",
              "      <th>sales</th>\n",
              "      <th>week_id</th>\n",
              "    </tr>\n",
              "  </thead>\n",
              "  <tbody>\n",
              "    <tr>\n",
              "      <th>0</th>\n",
              "      <td>2012-01-01</td>\n",
              "      <td>74.0</td>\n",
              "      <td>11.0</td>\n",
              "      <td>others</td>\n",
              "      <td>111.0</td>\n",
              "      <td>Maharashtra</td>\n",
              "      <td>0.0</td>\n",
              "      <td>49</td>\n",
              "    </tr>\n",
              "    <tr>\n",
              "      <th>1</th>\n",
              "      <td>2012-01-01</td>\n",
              "      <td>337.0</td>\n",
              "      <td>11.0</td>\n",
              "      <td>others</td>\n",
              "      <td>111.0</td>\n",
              "      <td>Maharashtra</td>\n",
              "      <td>1.0</td>\n",
              "      <td>49</td>\n",
              "    </tr>\n",
              "    <tr>\n",
              "      <th>2</th>\n",
              "      <td>2012-01-01</td>\n",
              "      <td>423.0</td>\n",
              "      <td>12.0</td>\n",
              "      <td>others</td>\n",
              "      <td>111.0</td>\n",
              "      <td>Maharashtra</td>\n",
              "      <td>0.0</td>\n",
              "      <td>49</td>\n",
              "    </tr>\n",
              "    <tr>\n",
              "      <th>3</th>\n",
              "      <td>2012-01-01</td>\n",
              "      <td>432.0</td>\n",
              "      <td>12.0</td>\n",
              "      <td>others</td>\n",
              "      <td>111.0</td>\n",
              "      <td>Maharashtra</td>\n",
              "      <td>0.0</td>\n",
              "      <td>49</td>\n",
              "    </tr>\n",
              "    <tr>\n",
              "      <th>4</th>\n",
              "      <td>2012-01-01</td>\n",
              "      <td>581.0</td>\n",
              "      <td>21.0</td>\n",
              "      <td>fast_moving_consumer_goods</td>\n",
              "      <td>111.0</td>\n",
              "      <td>Maharashtra</td>\n",
              "      <td>0.0</td>\n",
              "      <td>49</td>\n",
              "    </tr>\n",
              "  </tbody>\n",
              "</table>\n",
              "</div>\n",
              "      <button class=\"colab-df-convert\" onclick=\"convertToInteractive('df-b030773e-2ef7-42ee-95d4-63ab19427291')\"\n",
              "              title=\"Convert this dataframe to an interactive table.\"\n",
              "              style=\"display:none;\">\n",
              "        \n",
              "  <svg xmlns=\"http://www.w3.org/2000/svg\" height=\"24px\"viewBox=\"0 0 24 24\"\n",
              "       width=\"24px\">\n",
              "    <path d=\"M0 0h24v24H0V0z\" fill=\"none\"/>\n",
              "    <path d=\"M18.56 5.44l.94 2.06.94-2.06 2.06-.94-2.06-.94-.94-2.06-.94 2.06-2.06.94zm-11 1L8.5 8.5l.94-2.06 2.06-.94-2.06-.94L8.5 2.5l-.94 2.06-2.06.94zm10 10l.94 2.06.94-2.06 2.06-.94-2.06-.94-.94-2.06-.94 2.06-2.06.94z\"/><path d=\"M17.41 7.96l-1.37-1.37c-.4-.4-.92-.59-1.43-.59-.52 0-1.04.2-1.43.59L10.3 9.45l-7.72 7.72c-.78.78-.78 2.05 0 2.83L4 21.41c.39.39.9.59 1.41.59.51 0 1.02-.2 1.41-.59l7.78-7.78 2.81-2.81c.8-.78.8-2.07 0-2.86zM5.41 20L4 18.59l7.72-7.72 1.47 1.35L5.41 20z\"/>\n",
              "  </svg>\n",
              "      </button>\n",
              "      \n",
              "  <style>\n",
              "    .colab-df-container {\n",
              "      display:flex;\n",
              "      flex-wrap:wrap;\n",
              "      gap: 12px;\n",
              "    }\n",
              "\n",
              "    .colab-df-convert {\n",
              "      background-color: #E8F0FE;\n",
              "      border: none;\n",
              "      border-radius: 50%;\n",
              "      cursor: pointer;\n",
              "      display: none;\n",
              "      fill: #1967D2;\n",
              "      height: 32px;\n",
              "      padding: 0 0 0 0;\n",
              "      width: 32px;\n",
              "    }\n",
              "\n",
              "    .colab-df-convert:hover {\n",
              "      background-color: #E2EBFA;\n",
              "      box-shadow: 0px 1px 2px rgba(60, 64, 67, 0.3), 0px 1px 3px 1px rgba(60, 64, 67, 0.15);\n",
              "      fill: #174EA6;\n",
              "    }\n",
              "\n",
              "    [theme=dark] .colab-df-convert {\n",
              "      background-color: #3B4455;\n",
              "      fill: #D2E3FC;\n",
              "    }\n",
              "\n",
              "    [theme=dark] .colab-df-convert:hover {\n",
              "      background-color: #434B5C;\n",
              "      box-shadow: 0px 1px 3px 1px rgba(0, 0, 0, 0.15);\n",
              "      filter: drop-shadow(0px 1px 2px rgba(0, 0, 0, 0.3));\n",
              "      fill: #FFFFFF;\n",
              "    }\n",
              "  </style>\n",
              "\n",
              "      <script>\n",
              "        const buttonEl =\n",
              "          document.querySelector('#df-b030773e-2ef7-42ee-95d4-63ab19427291 button.colab-df-convert');\n",
              "        buttonEl.style.display =\n",
              "          google.colab.kernel.accessAllowed ? 'block' : 'none';\n",
              "\n",
              "        async function convertToInteractive(key) {\n",
              "          const element = document.querySelector('#df-b030773e-2ef7-42ee-95d4-63ab19427291');\n",
              "          const dataTable =\n",
              "            await google.colab.kernel.invokeFunction('convertToInteractive',\n",
              "                                                     [key], {});\n",
              "          if (!dataTable) return;\n",
              "\n",
              "          const docLinkHtml = 'Like what you see? Visit the ' +\n",
              "            '<a target=\"_blank\" href=https://colab.research.google.com/notebooks/data_table.ipynb>data table notebook</a>'\n",
              "            + ' to learn more about interactive tables.';\n",
              "          element.innerHTML = '';\n",
              "          dataTable['output_type'] = 'display_data';\n",
              "          await google.colab.output.renderOutput(dataTable, element);\n",
              "          const docLink = document.createElement('div');\n",
              "          docLink.innerHTML = docLinkHtml;\n",
              "          element.appendChild(docLink);\n",
              "        }\n",
              "      </script>\n",
              "    </div>\n",
              "  </div>\n",
              "  "
            ]
          },
          "metadata": {},
          "execution_count": 10
        }
      ]
    },
    {
      "cell_type": "code",
      "source": [
        "df2.head()"
      ],
      "metadata": {
        "colab": {
          "base_uri": "https://localhost:8080/",
          "height": 206
        },
        "id": "kDX7lIro2nN9",
        "outputId": "a70ee3cc-508e-4384-c4cd-8059c2e4d2e7"
      },
      "execution_count": 11,
      "outputs": [
        {
          "output_type": "execute_result",
          "data": {
            "text/plain": [
              "    id        date  product_identifier  department_identifier  \\\n",
              "0  1.0  2014-03-01                74.0                   11.0   \n",
              "1  2.0  2014-03-01               337.0                   11.0   \n",
              "2  3.0  2014-03-01               423.0                   12.0   \n",
              "3  4.0  2014-03-01               432.0                   12.0   \n",
              "4  5.0  2014-03-01               581.0                   21.0   \n",
              "\n",
              "          category_of_product  outlet        state  week_id  \n",
              "0                      others   111.0  Maharashtra      162  \n",
              "1                      others   111.0  Maharashtra      162  \n",
              "2                      others   111.0  Maharashtra      162  \n",
              "3                      others   111.0  Maharashtra      162  \n",
              "4  fast_moving_consumer_goods   111.0  Maharashtra      162  "
            ],
            "text/html": [
              "\n",
              "  <div id=\"df-1b4ec4c0-c547-4497-86b3-e1f09a0b921c\">\n",
              "    <div class=\"colab-df-container\">\n",
              "      <div>\n",
              "<style scoped>\n",
              "    .dataframe tbody tr th:only-of-type {\n",
              "        vertical-align: middle;\n",
              "    }\n",
              "\n",
              "    .dataframe tbody tr th {\n",
              "        vertical-align: top;\n",
              "    }\n",
              "\n",
              "    .dataframe thead th {\n",
              "        text-align: right;\n",
              "    }\n",
              "</style>\n",
              "<table border=\"1\" class=\"dataframe\">\n",
              "  <thead>\n",
              "    <tr style=\"text-align: right;\">\n",
              "      <th></th>\n",
              "      <th>id</th>\n",
              "      <th>date</th>\n",
              "      <th>product_identifier</th>\n",
              "      <th>department_identifier</th>\n",
              "      <th>category_of_product</th>\n",
              "      <th>outlet</th>\n",
              "      <th>state</th>\n",
              "      <th>week_id</th>\n",
              "    </tr>\n",
              "  </thead>\n",
              "  <tbody>\n",
              "    <tr>\n",
              "      <th>0</th>\n",
              "      <td>1.0</td>\n",
              "      <td>2014-03-01</td>\n",
              "      <td>74.0</td>\n",
              "      <td>11.0</td>\n",
              "      <td>others</td>\n",
              "      <td>111.0</td>\n",
              "      <td>Maharashtra</td>\n",
              "      <td>162</td>\n",
              "    </tr>\n",
              "    <tr>\n",
              "      <th>1</th>\n",
              "      <td>2.0</td>\n",
              "      <td>2014-03-01</td>\n",
              "      <td>337.0</td>\n",
              "      <td>11.0</td>\n",
              "      <td>others</td>\n",
              "      <td>111.0</td>\n",
              "      <td>Maharashtra</td>\n",
              "      <td>162</td>\n",
              "    </tr>\n",
              "    <tr>\n",
              "      <th>2</th>\n",
              "      <td>3.0</td>\n",
              "      <td>2014-03-01</td>\n",
              "      <td>423.0</td>\n",
              "      <td>12.0</td>\n",
              "      <td>others</td>\n",
              "      <td>111.0</td>\n",
              "      <td>Maharashtra</td>\n",
              "      <td>162</td>\n",
              "    </tr>\n",
              "    <tr>\n",
              "      <th>3</th>\n",
              "      <td>4.0</td>\n",
              "      <td>2014-03-01</td>\n",
              "      <td>432.0</td>\n",
              "      <td>12.0</td>\n",
              "      <td>others</td>\n",
              "      <td>111.0</td>\n",
              "      <td>Maharashtra</td>\n",
              "      <td>162</td>\n",
              "    </tr>\n",
              "    <tr>\n",
              "      <th>4</th>\n",
              "      <td>5.0</td>\n",
              "      <td>2014-03-01</td>\n",
              "      <td>581.0</td>\n",
              "      <td>21.0</td>\n",
              "      <td>fast_moving_consumer_goods</td>\n",
              "      <td>111.0</td>\n",
              "      <td>Maharashtra</td>\n",
              "      <td>162</td>\n",
              "    </tr>\n",
              "  </tbody>\n",
              "</table>\n",
              "</div>\n",
              "      <button class=\"colab-df-convert\" onclick=\"convertToInteractive('df-1b4ec4c0-c547-4497-86b3-e1f09a0b921c')\"\n",
              "              title=\"Convert this dataframe to an interactive table.\"\n",
              "              style=\"display:none;\">\n",
              "        \n",
              "  <svg xmlns=\"http://www.w3.org/2000/svg\" height=\"24px\"viewBox=\"0 0 24 24\"\n",
              "       width=\"24px\">\n",
              "    <path d=\"M0 0h24v24H0V0z\" fill=\"none\"/>\n",
              "    <path d=\"M18.56 5.44l.94 2.06.94-2.06 2.06-.94-2.06-.94-.94-2.06-.94 2.06-2.06.94zm-11 1L8.5 8.5l.94-2.06 2.06-.94-2.06-.94L8.5 2.5l-.94 2.06-2.06.94zm10 10l.94 2.06.94-2.06 2.06-.94-2.06-.94-.94-2.06-.94 2.06-2.06.94z\"/><path d=\"M17.41 7.96l-1.37-1.37c-.4-.4-.92-.59-1.43-.59-.52 0-1.04.2-1.43.59L10.3 9.45l-7.72 7.72c-.78.78-.78 2.05 0 2.83L4 21.41c.39.39.9.59 1.41.59.51 0 1.02-.2 1.41-.59l7.78-7.78 2.81-2.81c.8-.78.8-2.07 0-2.86zM5.41 20L4 18.59l7.72-7.72 1.47 1.35L5.41 20z\"/>\n",
              "  </svg>\n",
              "      </button>\n",
              "      \n",
              "  <style>\n",
              "    .colab-df-container {\n",
              "      display:flex;\n",
              "      flex-wrap:wrap;\n",
              "      gap: 12px;\n",
              "    }\n",
              "\n",
              "    .colab-df-convert {\n",
              "      background-color: #E8F0FE;\n",
              "      border: none;\n",
              "      border-radius: 50%;\n",
              "      cursor: pointer;\n",
              "      display: none;\n",
              "      fill: #1967D2;\n",
              "      height: 32px;\n",
              "      padding: 0 0 0 0;\n",
              "      width: 32px;\n",
              "    }\n",
              "\n",
              "    .colab-df-convert:hover {\n",
              "      background-color: #E2EBFA;\n",
              "      box-shadow: 0px 1px 2px rgba(60, 64, 67, 0.3), 0px 1px 3px 1px rgba(60, 64, 67, 0.15);\n",
              "      fill: #174EA6;\n",
              "    }\n",
              "\n",
              "    [theme=dark] .colab-df-convert {\n",
              "      background-color: #3B4455;\n",
              "      fill: #D2E3FC;\n",
              "    }\n",
              "\n",
              "    [theme=dark] .colab-df-convert:hover {\n",
              "      background-color: #434B5C;\n",
              "      box-shadow: 0px 1px 3px 1px rgba(0, 0, 0, 0.15);\n",
              "      filter: drop-shadow(0px 1px 2px rgba(0, 0, 0, 0.3));\n",
              "      fill: #FFFFFF;\n",
              "    }\n",
              "  </style>\n",
              "\n",
              "      <script>\n",
              "        const buttonEl =\n",
              "          document.querySelector('#df-1b4ec4c0-c547-4497-86b3-e1f09a0b921c button.colab-df-convert');\n",
              "        buttonEl.style.display =\n",
              "          google.colab.kernel.accessAllowed ? 'block' : 'none';\n",
              "\n",
              "        async function convertToInteractive(key) {\n",
              "          const element = document.querySelector('#df-1b4ec4c0-c547-4497-86b3-e1f09a0b921c');\n",
              "          const dataTable =\n",
              "            await google.colab.kernel.invokeFunction('convertToInteractive',\n",
              "                                                     [key], {});\n",
              "          if (!dataTable) return;\n",
              "\n",
              "          const docLinkHtml = 'Like what you see? Visit the ' +\n",
              "            '<a target=\"_blank\" href=https://colab.research.google.com/notebooks/data_table.ipynb>data table notebook</a>'\n",
              "            + ' to learn more about interactive tables.';\n",
              "          element.innerHTML = '';\n",
              "          dataTable['output_type'] = 'display_data';\n",
              "          await google.colab.output.renderOutput(dataTable, element);\n",
              "          const docLink = document.createElement('div');\n",
              "          docLink.innerHTML = docLinkHtml;\n",
              "          element.appendChild(docLink);\n",
              "        }\n",
              "      </script>\n",
              "    </div>\n",
              "  </div>\n",
              "  "
            ]
          },
          "metadata": {},
          "execution_count": 11
        }
      ]
    },
    {
      "cell_type": "code",
      "source": [
        "df1['date']=pd.to_datetime(df1['date'],format='%Y-%m-%d')"
      ],
      "metadata": {
        "id": "6va1-y1s5PH7"
      },
      "execution_count": 14,
      "outputs": []
    },
    {
      "cell_type": "code",
      "source": [
        "df2['date']=pd.to_datetime(df2['date'],format='%Y-%m-%d')"
      ],
      "metadata": {
        "id": "o5GBcToh5B0N"
      },
      "execution_count": 15,
      "outputs": []
    },
    {
      "cell_type": "code",
      "source": [
        "df1.info()"
      ],
      "metadata": {
        "colab": {
          "base_uri": "https://localhost:8080/"
        },
        "id": "gcFQra665oUP",
        "outputId": "14af4afa-4a94-4e9e-cdff-f011c6a33fd9"
      },
      "execution_count": 17,
      "outputs": [
        {
          "output_type": "stream",
          "name": "stdout",
          "text": [
            "<class 'pandas.core.frame.DataFrame'>\n",
            "Int64Index: 395031 entries, 0 to 395030\n",
            "Data columns (total 8 columns):\n",
            " #   Column                 Non-Null Count   Dtype         \n",
            "---  ------                 --------------   -----         \n",
            " 0   date                   395031 non-null  datetime64[ns]\n",
            " 1   product_identifier     395000 non-null  float64       \n",
            " 2   department_identifier  395000 non-null  float64       \n",
            " 3   category_of_product    395000 non-null  object        \n",
            " 4   outlet                 395000 non-null  float64       \n",
            " 5   state                  395000 non-null  object        \n",
            " 6   sales                  395000 non-null  float64       \n",
            " 7   week_id                395031 non-null  int64         \n",
            "dtypes: datetime64[ns](1), float64(4), int64(1), object(2)\n",
            "memory usage: 27.1+ MB\n"
          ]
        }
      ]
    },
    {
      "cell_type": "code",
      "source": [
        "df1.isnull().sum()"
      ],
      "metadata": {
        "colab": {
          "base_uri": "https://localhost:8080/"
        },
        "id": "6QbUWP-d2v5R",
        "outputId": "244068da-ae5b-4b1b-b7b1-cc483516bd51"
      },
      "execution_count": 16,
      "outputs": [
        {
          "output_type": "execute_result",
          "data": {
            "text/plain": [
              "date                      0\n",
              "product_identifier       31\n",
              "department_identifier    31\n",
              "category_of_product      31\n",
              "outlet                   31\n",
              "state                    31\n",
              "sales                    31\n",
              "week_id                   0\n",
              "dtype: int64"
            ]
          },
          "metadata": {},
          "execution_count": 16
        }
      ]
    },
    {
      "cell_type": "code",
      "source": [
        "categorical_list  = ['category_of_product','state']"
      ],
      "metadata": {
        "id": "fFC7Q4gB3EnF"
      },
      "execution_count": 18,
      "outputs": []
    },
    {
      "cell_type": "code",
      "source": [
        "for i in categorical_list:\n",
        "  df1[i]=df1[i].astype('category').cat.codes "
      ],
      "metadata": {
        "id": "4AMAPdqb57zM"
      },
      "execution_count": 20,
      "outputs": []
    },
    {
      "cell_type": "code",
      "source": [
        "df1.info()"
      ],
      "metadata": {
        "colab": {
          "base_uri": "https://localhost:8080/"
        },
        "id": "Ve2Qgayq6Go1",
        "outputId": "82eb8ad0-ea7d-4b05-e86f-1d9bb757adab"
      },
      "execution_count": 22,
      "outputs": [
        {
          "output_type": "stream",
          "name": "stdout",
          "text": [
            "<class 'pandas.core.frame.DataFrame'>\n",
            "Int64Index: 395031 entries, 0 to 395030\n",
            "Data columns (total 8 columns):\n",
            " #   Column                 Non-Null Count   Dtype         \n",
            "---  ------                 --------------   -----         \n",
            " 0   date                   395031 non-null  datetime64[ns]\n",
            " 1   product_identifier     395000 non-null  float64       \n",
            " 2   department_identifier  395000 non-null  float64       \n",
            " 3   category_of_product    395031 non-null  int8          \n",
            " 4   outlet                 395000 non-null  float64       \n",
            " 5   state                  395031 non-null  int8          \n",
            " 6   sales                  395000 non-null  float64       \n",
            " 7   week_id                395031 non-null  int64         \n",
            "dtypes: datetime64[ns](1), float64(4), int64(1), int8(2)\n",
            "memory usage: 21.9 MB\n"
          ]
        }
      ]
    },
    {
      "cell_type": "code",
      "source": [
        "df1['product_identifier'] = df1['product_identifier'].fillna(df1['product_identifier'].median())\n",
        "df1['department_identifier'] = df1['department_identifier'].fillna(df1['department_identifier'].median())\n",
        "df1['category_of_product'] = df1['category_of_product'].fillna(df1['category_of_product'].median())\n",
        "df1['outlet'] = df1['outlet'].fillna(df1['outlet'].median())\n",
        "df1['state'] = df1['state'].fillna(df1['state'].median())\n",
        "df1['sales'] = df1['sales'].fillna(df1['sales'].median())"
      ],
      "metadata": {
        "id": "hECY2BO56QJq"
      },
      "execution_count": 23,
      "outputs": []
    },
    {
      "cell_type": "code",
      "source": [
        "df1.isnull().sum()"
      ],
      "metadata": {
        "colab": {
          "base_uri": "https://localhost:8080/"
        },
        "id": "07IkhL5Z7wkr",
        "outputId": "cc945363-3f07-4faa-ddfd-0bf063420aaa"
      },
      "execution_count": 24,
      "outputs": [
        {
          "output_type": "execute_result",
          "data": {
            "text/plain": [
              "date                     0\n",
              "product_identifier       0\n",
              "department_identifier    0\n",
              "category_of_product      0\n",
              "outlet                   0\n",
              "state                    0\n",
              "sales                    0\n",
              "week_id                  0\n",
              "dtype: int64"
            ]
          },
          "metadata": {},
          "execution_count": 24
        }
      ]
    },
    {
      "cell_type": "code",
      "source": [
        "# Checking the correlation\n",
        "plt.figure(figsize=(10,7))\n",
        "sns.heatmap(df1.corr(),annot=True)\n",
        "plt.title('correlation between columns')\n",
        "plt.show()"
      ],
      "metadata": {
        "colab": {
          "base_uri": "https://localhost:8080/",
          "height": 544
        },
        "id": "ger_c5sc7zfN",
        "outputId": "6c82736a-db0c-4b7f-da01-3674455503fa"
      },
      "execution_count": 26,
      "outputs": [
        {
          "output_type": "display_data",
          "data": {
            "text/plain": [
              "<Figure size 720x504 with 2 Axes>"
            ],
            "image/png": "[encoded data removed]"
          },
          "metadata": {
            "needs_background": "light"
          }
        }
      ]
    },
    {
      "cell_type": "code",
      "source": [
        "df2.isnull().sum()"
      ],
      "metadata": {
        "colab": {
          "base_uri": "https://localhost:8080/"
        },
        "id": "duJ9a1vB-Arn",
        "outputId": "6b5302d8-bf6a-4778-c109-2a3f46f62b72"
      },
      "execution_count": 27,
      "outputs": [
        {
          "output_type": "execute_result",
          "data": {
            "text/plain": [
              "id                       790\n",
              "date                       0\n",
              "product_identifier       790\n",
              "department_identifier    790\n",
              "category_of_product      790\n",
              "outlet                   790\n",
              "state                    790\n",
              "week_id                    0\n",
              "dtype: int64"
            ]
          },
          "metadata": {},
          "execution_count": 27
        }
      ]
    },
    {
      "cell_type": "code",
      "source": [
        "df2.info()"
      ],
      "metadata": {
        "colab": {
          "base_uri": "https://localhost:8080/"
        },
        "id": "2i52btP_-Qwl",
        "outputId": "6bae71a2-ff4f-444b-ef34-b13695dd9d51"
      },
      "execution_count": 28,
      "outputs": [
        {
          "output_type": "stream",
          "name": "stdout",
          "text": [
            "<class 'pandas.core.frame.DataFrame'>\n",
            "Int64Index: 16290 entries, 0 to 16289\n",
            "Data columns (total 8 columns):\n",
            " #   Column                 Non-Null Count  Dtype         \n",
            "---  ------                 --------------  -----         \n",
            " 0   id                     15500 non-null  float64       \n",
            " 1   date                   16290 non-null  datetime64[ns]\n",
            " 2   product_identifier     15500 non-null  float64       \n",
            " 3   department_identifier  15500 non-null  float64       \n",
            " 4   category_of_product    15500 non-null  object        \n",
            " 5   outlet                 15500 non-null  float64       \n",
            " 6   state                  15500 non-null  object        \n",
            " 7   week_id                16290 non-null  int64         \n",
            "dtypes: datetime64[ns](1), float64(4), int64(1), object(2)\n",
            "memory usage: 1.1+ MB\n"
          ]
        }
      ]
    },
    {
      "cell_type": "code",
      "source": [
        "categorical_list  = ['category_of_product','state']"
      ],
      "metadata": {
        "id": "_xxlPCRf-ZaL"
      },
      "execution_count": 29,
      "outputs": []
    },
    {
      "cell_type": "code",
      "source": [
        "for i in categorical_list:\n",
        "  df2[i]=df2[i].astype('category').cat.codes "
      ],
      "metadata": {
        "id": "XGWvfxrq-f9w"
      },
      "execution_count": 30,
      "outputs": []
    },
    {
      "cell_type": "code",
      "source": [
        "df2['id'] = df2['id'].fillna(df2['id'].median())\n",
        "df2['product_identifier'] = df2['product_identifier'].fillna(df2['product_identifier'].median())\n",
        "df2['department_identifier'] = df2['department_identifier'].fillna(df2['department_identifier'].median())\n",
        "df2['category_of_product'] = df2['category_of_product'].fillna(df2['category_of_product'].median())\n",
        "df2['outlet'] = df2['outlet'].fillna(df2['outlet'].median())\n",
        "df2['state'] = df2['state'].fillna(df2['state'].median())"
      ],
      "metadata": {
        "id": "eoKBSXzj-puQ"
      },
      "execution_count": 32,
      "outputs": []
    },
    {
      "cell_type": "code",
      "source": [
        "df2.isnull().sum()"
      ],
      "metadata": {
        "colab": {
          "base_uri": "https://localhost:8080/"
        },
        "id": "Hvoy1xgi_fvh",
        "outputId": "e9ea032b-4bb8-4be7-960c-b568a5bd9aae"
      },
      "execution_count": 33,
      "outputs": [
        {
          "output_type": "execute_result",
          "data": {
            "text/plain": [
              "id                       0\n",
              "date                     0\n",
              "product_identifier       0\n",
              "department_identifier    0\n",
              "category_of_product      0\n",
              "outlet                   0\n",
              "state                    0\n",
              "week_id                  0\n",
              "dtype: int64"
            ]
          },
          "metadata": {},
          "execution_count": 33
        }
      ]
    },
    {
      "cell_type": "code",
      "source": [
        "# Checking the correlation\n",
        "plt.figure(figsize=(10,7))\n",
        "sns.heatmap(df2.corr(),annot=True)\n",
        "plt.title('correlation between columns')\n",
        "plt.show()"
      ],
      "metadata": {
        "colab": {
          "base_uri": "https://localhost:8080/",
          "height": 544
        },
        "id": "eaF5oDBA_jJ2",
        "outputId": "64686122-864d-4b09-e4e6-e4921f5afe4c"
      },
      "execution_count": 35,
      "outputs": [
        {
          "output_type": "display_data",
          "data": {
            "text/plain": [
              "<Figure size 720x504 with 2 Axes>"
            ],
            "image/png": "[encoded data removed]"
          },
          "metadata": {
            "needs_background": "light"
          }
        }
      ]
    },
    {
      "cell_type": "code",
      "source": [
        "\n",
        "# Split the dataset into training and testing sets\n",
        "train_data, test_data = np.split(df1.sample(frac=1, random_state=42), [int(0.8 * len(df1))])\n",
        "\n",
        "# Define the input features and target variable\n",
        "X_train = train_data.drop([ \"sales\"], axis=1)\n",
        "y_train = train_data[\"sales\"]\n",
        "X_test = test_data.drop([ \"sales\"], axis=1)\n",
        "y_test = test_data[\"sales\"]\n",
        "\n",
        "# Define a function to calculate the mean squared error\n",
        "def mean_squared_error(y_true, y_pred):\n",
        "    return np.mean((y_true - y_pred)**2)\n",
        "\n",
        "# Define a function to split the data based on a given feature and threshold value\n",
        "def split_data(X, y, feature, threshold):\n",
        "    left_mask = X[feature] <= threshold\n",
        "    right_mask = X[feature] > threshold\n",
        "    X_left, y_left = X.loc[left_mask], y.loc[left_mask]\n",
        "    X_right, y_right = X.loc[right_mask], y.loc[right_mask]\n",
        "    return X_left, y_left, X_right, y_right\n",
        "\n",
        "# Define a function to find the best split point for a given feature\n",
        "def find_best_split(X, y, feature):\n",
        "    # Sort the data by the feature\n",
        "    X_sorted = X.sort_values(feature)\n",
        "    y_sorted = y[X_sorted.index]\n",
        "    # Initialize the best split point and lowest mse\n",
        "    best_split = None\n",
        "    lowest_mse = float(\"inf\")\n",
        "    # Loop through each unique value of the feature\n",
        "    for threshold in X_sorted[feature].unique():\n",
        "        # Split the data at the current threshold\n",
        "        X_left, y_left, X_right, y_right = split_data(X_sorted, y_sorted, feature, threshold)\n",
        "        # Calculate the mse for the current split\n",
        "        mse = mean_squared_error(y_left, y_left.mean()) + mean_squared_error(y_right, y_right.mean())\n",
        "        # Update the best split and lowest mse if the current mse is lower\n",
        "        if mse < lowest_mse:\n",
        "            best_split = (feature, threshold)\n",
        "            lowest_mse = mse\n",
        "    return best_split, lowest_mse"
      ],
      "metadata": {
        "id": "1ipD2liJ_pH8"
      },
      "execution_count": 38,
      "outputs": []
    },
    {
      "cell_type": "code",
      "source": [
        "# Define a class for decision tree nodes\n",
        "class Node:\n",
        "    def __init__(self, X, y, depth=0, max_depth=5, min_samples_split=2):\n",
        "        self.X = X\n",
        "        self.y = y\n",
        "        self.depth = depth\n",
        "        self.max_depth = max_depth\n",
        "        self.min_samples_split = min_samples_split\n",
        "        self.left = None\n",
        "        self.right = None\n",
        "        self.split_feature = None\n",
        "        self.split_threshold = None\n",
        "        self.prediction = y.mean()\n",
        "        # Stop splitting if the node reaches the maximum depth or minimum number of samples\n",
        "        if depth < max_depth and len(X) >= min_samples_split:\n",
        "            # Find the best split point among all features\n",
        "            best_split, lowest_mse = min([find_best_split(X, y, feature) for feature in X.columns], key=lambda x: x[1])\n",
        "            # Create left and right child nodes and continue splitting recursively\n",
        "            if best_split is not None:\n",
        "                self.split_feature, self.split_threshold = best_split\n",
        "                X_left, y_left, X_right, y_right = split_data(X, y, self.split_feature, self.split_threshold)\n",
        "                self.left = Node(X_left, y_left, depth+1, max_depth, min_samples_split)\n",
        "                self.right = Node(X_right, y_right, depth+1, max_depth, min_samples_split)\n",
        "                self.prediction = None\n",
        "\n",
        "    def predict_row(self, row):\n",
        "        # Recursively traverse the tree to find the prediction for a given row\n",
        "        if self.prediction is not None:\n",
        "            return self.prediction\n",
        "        elif row[self.split_feature] <= self.split_threshold:\n",
        "            return self.left.predict_row(row)\n",
        "        else:\n",
        "            return self.right.predict_row(row)\n",
        "\n",
        "    def predict(self, X):\n",
        "        # Make predictions for all rows in X\n",
        "        return np.array([self.predict_row(X.iloc[i]) for i in range(len(X))])\n",
        "\n",
        "# Train the decision tree on the training data\n",
        "tree = Node(X_train, y_train)\n",
        "\n",
        "# Make predictions on the testing data\n",
        "y_pred = tree.predict(X_test)\n",
        "\n"
      ],
      "metadata": {
        "id": "xr5Qt2ffAIwa"
      },
      "execution_count": 39,
      "outputs": []
    },
    {
      "cell_type": "code",
      "source": [
        "# Calculate the mean squared error of the predictions\n",
        "mse = mean_squared_error(y_test, y_pred)\n",
        "print(\"Mean Squared Error:\", mse)"
      ],
      "metadata": {
        "colab": {
          "base_uri": "https://localhost:8080/"
        },
        "id": "7HR_9Gn8AnYR",
        "outputId": "e3738298-b036-4b7b-96ff-d66f7908d847"
      },
      "execution_count": 40,
      "outputs": [
        {
          "output_type": "stream",
          "name": "stdout",
          "text": [
            "Mean Squared Error: 12.566104702126147\n"
          ]
        }
      ]
    },
    {
      "cell_type": "code",
      "source": [
        "y_pred"
      ],
      "metadata": {
        "colab": {
          "base_uri": "https://localhost:8080/"
        },
        "id": "0GzeASejBNPi",
        "outputId": "688a97da-a1e3-4111-be38-645c641c5e54"
      },
      "execution_count": 41,
      "outputs": [
        {
          "output_type": "execute_result",
          "data": {
            "text/plain": [
              "array([1.22643892, 1.22643892, 1.22643892, ..., 1.22643892, 1.22643892,\n",
              "       1.22643892])"
            ]
          },
          "metadata": {},
          "execution_count": 41
        }
      ]
    },
    {
      "cell_type": "code",
      "source": [
        "pred_df = pd.DataFrame({'sales':y_pred})"
      ],
      "metadata": {
        "id": "eCGPEzsXBYcM"
      },
      "execution_count": 42,
      "outputs": []
    },
    {
      "cell_type": "code",
      "source": [
        "pred_df.head()"
      ],
      "metadata": {
        "colab": {
          "base_uri": "https://localhost:8080/",
          "height": 206
        },
        "id": "P-Q1x70WBeJU",
        "outputId": "a856a4f4-5cd8-45aa-edc1-089fa2ae6e8a"
      },
      "execution_count": 43,
      "outputs": [
        {
          "output_type": "execute_result",
          "data": {
            "text/plain": [
              "      sales\n",
              "0  1.226439\n",
              "1  1.226439\n",
              "2  1.226439\n",
              "3  1.226439\n",
              "4  1.226439"
            ],
            "text/html": [
              "\n",
              "  <div id=\"df-ccfdcac5-3977-4d9a-934b-e3a721ce5f76\">\n",
              "    <div class=\"colab-df-container\">\n",
              "      <div>\n",
              "<style scoped>\n",
              "    .dataframe tbody tr th:only-of-type {\n",
              "        vertical-align: middle;\n",
              "    }\n",
              "\n",
              "    .dataframe tbody tr th {\n",
              "        vertical-align: top;\n",
              "    }\n",
              "\n",
              "    .dataframe thead th {\n",
              "        text-align: right;\n",
              "    }\n",
              "</style>\n",
              "<table border=\"1\" class=\"dataframe\">\n",
              "  <thead>\n",
              "    <tr style=\"text-align: right;\">\n",
              "      <th></th>\n",
              "      <th>sales</th>\n",
              "    </tr>\n",
              "  </thead>\n",
              "  <tbody>\n",
              "    <tr>\n",
              "      <th>0</th>\n",
              "      <td>1.226439</td>\n",
              "    </tr>\n",
              "    <tr>\n",
              "      <th>1</th>\n",
              "      <td>1.226439</td>\n",
              "    </tr>\n",
              "    <tr>\n",
              "      <th>2</th>\n",
              "      <td>1.226439</td>\n",
              "    </tr>\n",
              "    <tr>\n",
              "      <th>3</th>\n",
              "      <td>1.226439</td>\n",
              "    </tr>\n",
              "    <tr>\n",
              "      <th>4</th>\n",
              "      <td>1.226439</td>\n",
              "    </tr>\n",
              "  </tbody>\n",
              "</table>\n",
              "</div>\n",
              "      <button class=\"colab-df-convert\" onclick=\"convertToInteractive('df-ccfdcac5-3977-4d9a-934b-e3a721ce5f76')\"\n",
              "              title=\"Convert this dataframe to an interactive table.\"\n",
              "              style=\"display:none;\">\n",
              "        \n",
              "  <svg xmlns=\"http://www.w3.org/2000/svg\" height=\"24px\"viewBox=\"0 0 24 24\"\n",
              "       width=\"24px\">\n",
              "    <path d=\"M0 0h24v24H0V0z\" fill=\"none\"/>\n",
              "    <path d=\"M18.56 5.44l.94 2.06.94-2.06 2.06-.94-2.06-.94-.94-2.06-.94 2.06-2.06.94zm-11 1L8.5 8.5l.94-2.06 2.06-.94-2.06-.94L8.5 2.5l-.94 2.06-2.06.94zm10 10l.94 2.06.94-2.06 2.06-.94-2.06-.94-.94-2.06-.94 2.06-2.06.94z\"/><path d=\"M17.41 7.96l-1.37-1.37c-.4-.4-.92-.59-1.43-.59-.52 0-1.04.2-1.43.59L10.3 9.45l-7.72 7.72c-.78.78-.78 2.05 0 2.83L4 21.41c.39.39.9.59 1.41.59.51 0 1.02-.2 1.41-.59l7.78-7.78 2.81-2.81c.8-.78.8-2.07 0-2.86zM5.41 20L4 18.59l7.72-7.72 1.47 1.35L5.41 20z\"/>\n",
              "  </svg>\n",
              "      </button>\n",
              "      \n",
              "  <style>\n",
              "    .colab-df-container {\n",
              "      display:flex;\n",
              "      flex-wrap:wrap;\n",
              "      gap: 12px;\n",
              "    }\n",
              "\n",
              "    .colab-df-convert {\n",
              "      background-color: #E8F0FE;\n",
              "      border: none;\n",
              "      border-radius: 50%;\n",
              "      cursor: pointer;\n",
              "      display: none;\n",
              "      fill: #1967D2;\n",
              "      height: 32px;\n",
              "      padding: 0 0 0 0;\n",
              "      width: 32px;\n",
              "    }\n",
              "\n",
              "    .colab-df-convert:hover {\n",
              "      background-color: #E2EBFA;\n",
              "      box-shadow: 0px 1px 2px rgba(60, 64, 67, 0.3), 0px 1px 3px 1px rgba(60, 64, 67, 0.15);\n",
              "      fill: #174EA6;\n",
              "    }\n",
              "\n",
              "    [theme=dark] .colab-df-convert {\n",
              "      background-color: #3B4455;\n",
              "      fill: #D2E3FC;\n",
              "    }\n",
              "\n",
              "    [theme=dark] .colab-df-convert:hover {\n",
              "      background-color: #434B5C;\n",
              "      box-shadow: 0px 1px 3px 1px rgba(0, 0, 0, 0.15);\n",
              "      filter: drop-shadow(0px 1px 2px rgba(0, 0, 0, 0.3));\n",
              "      fill: #FFFFFF;\n",
              "    }\n",
              "  </style>\n",
              "\n",
              "      <script>\n",
              "        const buttonEl =\n",
              "          document.querySelector('#df-ccfdcac5-3977-4d9a-934b-e3a721ce5f76 button.colab-df-convert');\n",
              "        buttonEl.style.display =\n",
              "          google.colab.kernel.accessAllowed ? 'block' : 'none';\n",
              "\n",
              "        async function convertToInteractive(key) {\n",
              "          const element = document.querySelector('#df-ccfdcac5-3977-4d9a-934b-e3a721ce5f76');\n",
              "          const dataTable =\n",
              "            await google.colab.kernel.invokeFunction('convertToInteractive',\n",
              "                                                     [key], {});\n",
              "          if (!dataTable) return;\n",
              "\n",
              "          const docLinkHtml = 'Like what you see? Visit the ' +\n",
              "            '<a target=\"_blank\" href=https://colab.research.google.com/notebooks/data_table.ipynb>data table notebook</a>'\n",
              "            + ' to learn more about interactive tables.';\n",
              "          element.innerHTML = '';\n",
              "          dataTable['output_type'] = 'display_data';\n",
              "          await google.colab.output.renderOutput(dataTable, element);\n",
              "          const docLink = document.createElement('div');\n",
              "          docLink.innerHTML = docLinkHtml;\n",
              "          element.appendChild(docLink);\n",
              "        }\n",
              "      </script>\n",
              "    </div>\n",
              "  </div>\n",
              "  "
            ]
          },
          "metadata": {},
          "execution_count": 43
        }
      ]
    },
    {
      "cell_type": "code",
      "source": [
        "print(\"Predicted values:\", y_pred)\n",
        "print(\"Actual values:\", y_test.values)"
      ],
      "metadata": {
        "colab": {
          "base_uri": "https://localhost:8080/"
        },
        "id": "08g1nsJbBjWG",
        "outputId": "6a66f9fb-c611-496a-e3da-e3bdc9e11aee"
      },
      "execution_count": 44,
      "outputs": [
        {
          "output_type": "stream",
          "name": "stdout",
          "text": [
            "Predicted values: [1.22643892 1.22643892 1.22643892 ... 1.22643892 1.22643892 1.22643892]\n",
            "Actual values: [3. 0. 0. ... 0. 0. 0.]\n"
          ]
        }
      ]
    },
    {
      "cell_type": "code",
      "source": [],
      "metadata": {
        "id": "3vppHHJaBnnR"
      },
      "execution_count": null,
      "outputs": []
    }
  ]
}